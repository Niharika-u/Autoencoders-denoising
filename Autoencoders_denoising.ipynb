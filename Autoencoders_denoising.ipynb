{
  "cells": [
    {
      "cell_type": "code",
      "execution_count": null,
      "metadata": {
        "colab": {
          "base_uri": "https://localhost:8080/"
        },
        "id": "RV8FmEOc-m7e",
        "outputId": "35131d80-0c22-48db-f159-cff124e9c87b"
      },
      "outputs": [
        {
          "output_type": "stream",
          "name": "stdout",
          "text": [
            "TensorFlow version: 2.11.0\n",
            "Is Executing Eagerly? True\n"
          ]
        }
      ],
      "source": [
        "from __future__ import absolute_import, division, print_function, unicode_literals\n",
        "\n",
        "#try:\n",
        "  # The %tensorflow_version magic only works in colab.\n",
        "  # tensorflow_version 2.x\n",
        "#except Exception:\n",
        "#  pass\n",
        "import numpy as np\n",
        "import matplotlib.pyplot as plt\n",
        "import tensorflow as tf\n",
        "\n",
        "from tensorflow.keras.datasets import mnist\n",
        "\n",
        "print('TensorFlow version:', tf.__version__)\n",
        "print('Is Executing Eagerly?', tf.executing_eagerly())"
      ]
    },
    {
      "cell_type": "code",
      "execution_count": null,
      "metadata": {
        "id": "VZNJvrdd6Ty5"
      },
      "outputs": [],
      "source": [
        "def display_test_images(x_test, decoded_imgs):\n",
        "\n",
        "    n = 10\n",
        "    plt.figure(figsize=(20, 4))\n",
        "    for i in range(1, n + 1):\n",
        "        # Display original\n",
        "        ax = plt.subplot(2, n, i)\n",
        "        plt.imshow(x_test[i].reshape(28, 28))\n",
        "        plt.gray()\n",
        "        ax.get_xaxis().set_visible(False)\n",
        "        ax.get_yaxis().set_visible(False)\n",
        "\n",
        "        # Display reconstruction\n",
        "        ax = plt.subplot(2, n, i + n)\n",
        "        plt.imshow(decoded_imgs[i].reshape(28, 28))\n",
        "        plt.gray()\n",
        "        ax.get_xaxis().set_visible(False)\n",
        "        ax.get_yaxis().set_visible(False)\n",
        "    plt.show()\n"
      ]
    },
    {
      "cell_type": "code",
      "source": [
        "def loss_plot(model_history, title):\n",
        "    training_loss = model_history.history['loss']\n",
        "    test_loss = model_history.history['val_loss']\n",
        "    epoch_count = range(1, len(training_loss) + 1)\n",
        "\n",
        "    plt.plot(epoch_count, training_loss, 'r--')\n",
        "    plt.plot(epoch_count, test_loss, 'b-')\n",
        "    plt.legend(['Training Loss', 'Test Loss'])\n",
        "    plt.xlabel('Epoch')\n",
        "    plt.ylabel('Loss')\n",
        "    plt.title(title)\n",
        "    plt.show();"
      ],
      "metadata": {
        "id": "dk-5BQmD9Xpz"
      },
      "execution_count": null,
      "outputs": []
    },
    {
      "cell_type": "code",
      "execution_count": null,
      "metadata": {
        "id": "j2gRgd787gyp"
      },
      "outputs": [],
      "source": [
        "def plot_loss(model):\n",
        "    plt.plot(range(10), model.loss)\n",
        "    plt.xlabel('Epochs')\n",
        "    plt.ylabel('Loss')\n",
        "    plt.show()"
      ]
    },
    {
      "cell_type": "markdown",
      "metadata": {
        "id": "jHv80Luz-_Ed"
      },
      "source": [
        "# Task1: Dense Architecture"
      ]
    },
    {
      "cell_type": "code",
      "execution_count": null,
      "metadata": {
        "id": "41ymX79n5GY2",
        "colab": {
          "base_uri": "https://localhost:8080/"
        },
        "outputId": "7e6a2b2c-7bc3-4a6d-bef7-180e9f22fc33"
      },
      "outputs": [
        {
          "output_type": "stream",
          "name": "stdout",
          "text": [
            "Downloading data from https://storage.googleapis.com/tensorflow/tf-keras-datasets/mnist.npz\n",
            "11490434/11490434 [==============================] - 0s 0us/step\n"
          ]
        }
      ],
      "source": [
        "from keras.datasets import mnist\n",
        "import numpy as np\n",
        "import keras\n",
        "from keras.callbacks import TensorBoard\n",
        "\n",
        "(x_train, _), (x_test, _) = mnist.load_data()"
      ]
    },
    {
      "cell_type": "code",
      "execution_count": null,
      "metadata": {
        "colab": {
          "base_uri": "https://localhost:8080/"
        },
        "id": "vf15XyiC5OE7",
        "outputId": "de450ba4-8b25-4a61-e671-5026afe34755"
      },
      "outputs": [
        {
          "output_type": "stream",
          "name": "stdout",
          "text": [
            "(60000, 784)\n",
            "(10000, 784)\n"
          ]
        }
      ],
      "source": [
        "x_train = x_train.astype('float32') / 255.\n",
        "x_test = x_test.astype('float32') / 255.\n",
        "x_train = x_train.reshape((len(x_train), np.prod(x_train.shape[1:])))\n",
        "x_test = x_test.reshape((len(x_test), np.prod(x_test.shape[1:])))\n",
        "print(x_train.shape)\n",
        "print(x_test.shape)"
      ]
    },
    {
      "cell_type": "code",
      "execution_count": null,
      "metadata": {
        "id": "JX63Fy_E67pd"
      },
      "outputs": [],
      "source": [
        "input_img = keras.Input(shape=(784,))\n",
        "encoded = keras.layers.Dense(128, activation='relu')(input_img)\n",
        "\n",
        "decoded = keras.layers.Dense(128, activation='relu')(encoded)\n",
        "decoded = keras.layers.Dense(784, activation='sigmoid')(decoded)"
      ]
    },
    {
      "cell_type": "code",
      "execution_count": null,
      "metadata": {
        "id": "XGL6bkLL7UCk"
      },
      "outputs": [],
      "source": [
        "def loss(preds, real):\n",
        "  return tf.reduce_mean(tf.square(tf.subtract(preds, real)))"
      ]
    },
    {
      "cell_type": "code",
      "execution_count": null,
      "metadata": {
        "colab": {
          "base_uri": "https://localhost:8080/"
        },
        "id": "q8id2Kx87IXN",
        "outputId": "6f8f6bb6-05be-4c4b-d488-2d248d898483"
      },
      "outputs": [
        {
          "output_type": "stream",
          "name": "stdout",
          "text": [
            "Model: \"model\"\n",
            "_________________________________________________________________\n",
            " Layer (type)                Output Shape              Param #   \n",
            "=================================================================\n",
            " input_1 (InputLayer)        [(None, 784)]             0         \n",
            "                                                                 \n",
            " dense (Dense)               (None, 128)               100480    \n",
            "                                                                 \n",
            " dense_1 (Dense)             (None, 128)               16512     \n",
            "                                                                 \n",
            " dense_2 (Dense)             (None, 784)               101136    \n",
            "                                                                 \n",
            "=================================================================\n",
            "Total params: 218,128\n",
            "Trainable params: 218,128\n",
            "Non-trainable params: 0\n",
            "_________________________________________________________________\n"
          ]
        }
      ],
      "source": [
        "autoencoder1 = keras.Model(input_img, decoded)\n",
        "autoencoder1.compile(optimizer=tf.keras.optimizers.Adam(learning_rate=1e-2), loss=loss)\n",
        "autoencoder1.summary()"
      ]
    },
    {
      "cell_type": "code",
      "execution_count": null,
      "metadata": {
        "colab": {
          "base_uri": "https://localhost:8080/"
        },
        "id": "ELPES-z97wps",
        "outputId": "480c1c35-e943-40a4-f94a-8fe3b741402d"
      },
      "outputs": [
        {
          "output_type": "stream",
          "name": "stdout",
          "text": [
            "Epoch 1/100\n",
            "235/235 [==============================] - 12s 12ms/step - loss: 0.0288 - val_loss: 0.0114\n",
            "Epoch 2/100\n",
            "235/235 [==============================] - 2s 7ms/step - loss: 0.0096 - val_loss: 0.0080\n",
            "Epoch 3/100\n",
            "235/235 [==============================] - 1s 6ms/step - loss: 0.0075 - val_loss: 0.0065\n",
            "Epoch 4/100\n",
            "235/235 [==============================] - 2s 6ms/step - loss: 0.0065 - val_loss: 0.0060\n",
            "Epoch 5/100\n",
            "235/235 [==============================] - 2s 8ms/step - loss: 0.0058 - val_loss: 0.0056\n",
            "Epoch 6/100\n",
            "235/235 [==============================] - 2s 8ms/step - loss: 0.0055 - val_loss: 0.0052\n",
            "Epoch 7/100\n",
            "235/235 [==============================] - 2s 8ms/step - loss: 0.0053 - val_loss: 0.0052\n",
            "Epoch 8/100\n",
            "235/235 [==============================] - 1s 6ms/step - loss: 0.0052 - val_loss: 0.0049\n",
            "Epoch 9/100\n",
            "235/235 [==============================] - 1s 6ms/step - loss: 0.0051 - val_loss: 0.0051\n",
            "Epoch 10/100\n",
            "235/235 [==============================] - 2s 7ms/step - loss: 0.0050 - val_loss: 0.0049\n",
            "Epoch 11/100\n",
            "235/235 [==============================] - 1s 6ms/step - loss: 0.0050 - val_loss: 0.0050\n",
            "Epoch 12/100\n",
            "235/235 [==============================] - 1s 4ms/step - loss: 0.0050 - val_loss: 0.0048\n",
            "Epoch 13/100\n",
            "235/235 [==============================] - 1s 4ms/step - loss: 0.0049 - val_loss: 0.0049\n",
            "Epoch 14/100\n",
            "235/235 [==============================] - 1s 5ms/step - loss: 0.0049 - val_loss: 0.0048\n",
            "Epoch 15/100\n",
            "235/235 [==============================] - 1s 4ms/step - loss: 0.0049 - val_loss: 0.0049\n",
            "Epoch 16/100\n",
            "235/235 [==============================] - 1s 4ms/step - loss: 0.0049 - val_loss: 0.0049\n",
            "Epoch 17/100\n",
            "235/235 [==============================] - 1s 3ms/step - loss: 0.0048 - val_loss: 0.0048\n",
            "Epoch 18/100\n",
            "235/235 [==============================] - 1s 4ms/step - loss: 0.0048 - val_loss: 0.0049\n",
            "Epoch 19/100\n",
            "235/235 [==============================] - 1s 3ms/step - loss: 0.0048 - val_loss: 0.0048\n",
            "Epoch 20/100\n",
            "235/235 [==============================] - 1s 4ms/step - loss: 0.0048 - val_loss: 0.0048\n",
            "Epoch 21/100\n",
            "235/235 [==============================] - 1s 4ms/step - loss: 0.0048 - val_loss: 0.0049\n",
            "Epoch 22/100\n",
            "235/235 [==============================] - 1s 4ms/step - loss: 0.0048 - val_loss: 0.0048\n",
            "Epoch 23/100\n",
            "235/235 [==============================] - 1s 4ms/step - loss: 0.0048 - val_loss: 0.0047\n",
            "Epoch 24/100\n",
            "235/235 [==============================] - 1s 3ms/step - loss: 0.0048 - val_loss: 0.0047\n",
            "Epoch 25/100\n",
            "235/235 [==============================] - 1s 4ms/step - loss: 0.0048 - val_loss: 0.0047\n",
            "Epoch 26/100\n",
            "235/235 [==============================] - 1s 4ms/step - loss: 0.0048 - val_loss: 0.0048\n",
            "Epoch 27/100\n",
            "235/235 [==============================] - 1s 5ms/step - loss: 0.0048 - val_loss: 0.0047\n",
            "Epoch 28/100\n",
            "235/235 [==============================] - 1s 5ms/step - loss: 0.0047 - val_loss: 0.0048\n",
            "Epoch 29/100\n",
            "235/235 [==============================] - 1s 3ms/step - loss: 0.0047 - val_loss: 0.0049\n",
            "Epoch 30/100\n",
            "235/235 [==============================] - 1s 4ms/step - loss: 0.0047 - val_loss: 0.0046\n",
            "Epoch 31/100\n",
            "235/235 [==============================] - 1s 3ms/step - loss: 0.0047 - val_loss: 0.0047\n",
            "Epoch 32/100\n",
            "235/235 [==============================] - 1s 4ms/step - loss: 0.0047 - val_loss: 0.0046\n",
            "Epoch 33/100\n",
            "235/235 [==============================] - 1s 4ms/step - loss: 0.0046 - val_loss: 0.0047\n",
            "Epoch 34/100\n",
            "235/235 [==============================] - 1s 3ms/step - loss: 0.0046 - val_loss: 0.0046\n",
            "Epoch 35/100\n",
            "235/235 [==============================] - 1s 3ms/step - loss: 0.0046 - val_loss: 0.0047\n",
            "Epoch 36/100\n",
            "235/235 [==============================] - 1s 3ms/step - loss: 0.0047 - val_loss: 0.0047\n",
            "Epoch 37/100\n",
            "235/235 [==============================] - 1s 4ms/step - loss: 0.0046 - val_loss: 0.0046\n",
            "Epoch 38/100\n",
            "235/235 [==============================] - 1s 3ms/step - loss: 0.0046 - val_loss: 0.0047\n",
            "Epoch 39/100\n",
            "235/235 [==============================] - 1s 3ms/step - loss: 0.0046 - val_loss: 0.0047\n",
            "Epoch 40/100\n",
            "235/235 [==============================] - 1s 3ms/step - loss: 0.0046 - val_loss: 0.0046\n",
            "Epoch 41/100\n",
            "235/235 [==============================] - 1s 5ms/step - loss: 0.0046 - val_loss: 0.0049\n",
            "Epoch 42/100\n",
            "235/235 [==============================] - 1s 5ms/step - loss: 0.0046 - val_loss: 0.0046\n",
            "Epoch 43/100\n",
            "235/235 [==============================] - 1s 3ms/step - loss: 0.0046 - val_loss: 0.0046\n",
            "Epoch 44/100\n",
            "235/235 [==============================] - 1s 4ms/step - loss: 0.0046 - val_loss: 0.0047\n",
            "Epoch 45/100\n",
            "235/235 [==============================] - 1s 4ms/step - loss: 0.0046 - val_loss: 0.0045\n",
            "Epoch 46/100\n",
            "235/235 [==============================] - 1s 4ms/step - loss: 0.0046 - val_loss: 0.0047\n",
            "Epoch 47/100\n",
            "235/235 [==============================] - 1s 4ms/step - loss: 0.0046 - val_loss: 0.0048\n",
            "Epoch 48/100\n",
            "235/235 [==============================] - 1s 4ms/step - loss: 0.0046 - val_loss: 0.0045\n",
            "Epoch 49/100\n",
            "235/235 [==============================] - 1s 4ms/step - loss: 0.0046 - val_loss: 0.0047\n",
            "Epoch 50/100\n",
            "235/235 [==============================] - 1s 3ms/step - loss: 0.0046 - val_loss: 0.0047\n",
            "Epoch 51/100\n",
            "235/235 [==============================] - 1s 3ms/step - loss: 0.0046 - val_loss: 0.0045\n",
            "Epoch 52/100\n",
            "235/235 [==============================] - 1s 4ms/step - loss: 0.0046 - val_loss: 0.0044\n",
            "Epoch 53/100\n",
            "235/235 [==============================] - 1s 4ms/step - loss: 0.0046 - val_loss: 0.0045\n",
            "Epoch 54/100\n",
            "235/235 [==============================] - 1s 4ms/step - loss: 0.0046 - val_loss: 0.0045\n",
            "Epoch 55/100\n",
            "235/235 [==============================] - 1s 5ms/step - loss: 0.0046 - val_loss: 0.0045\n",
            "Epoch 56/100\n",
            "235/235 [==============================] - 1s 4ms/step - loss: 0.0045 - val_loss: 0.0047\n",
            "Epoch 57/100\n",
            "235/235 [==============================] - 1s 4ms/step - loss: 0.0046 - val_loss: 0.0045\n",
            "Epoch 58/100\n",
            "235/235 [==============================] - 1s 4ms/step - loss: 0.0045 - val_loss: 0.0045\n",
            "Epoch 59/100\n",
            "235/235 [==============================] - 1s 3ms/step - loss: 0.0045 - val_loss: 0.0044\n",
            "Epoch 60/100\n",
            "235/235 [==============================] - 1s 4ms/step - loss: 0.0045 - val_loss: 0.0045\n",
            "Epoch 61/100\n",
            "235/235 [==============================] - 1s 3ms/step - loss: 0.0045 - val_loss: 0.0044\n",
            "Epoch 62/100\n",
            "235/235 [==============================] - 1s 4ms/step - loss: 0.0045 - val_loss: 0.0045\n",
            "Epoch 63/100\n",
            "235/235 [==============================] - 1s 3ms/step - loss: 0.0045 - val_loss: 0.0046\n",
            "Epoch 64/100\n",
            "235/235 [==============================] - 1s 4ms/step - loss: 0.0045 - val_loss: 0.0047\n",
            "Epoch 65/100\n",
            "235/235 [==============================] - 1s 4ms/step - loss: 0.0045 - val_loss: 0.0046\n",
            "Epoch 66/100\n",
            "235/235 [==============================] - 1s 4ms/step - loss: 0.0045 - val_loss: 0.0046\n",
            "Epoch 67/100\n",
            "235/235 [==============================] - 1s 5ms/step - loss: 0.0045 - val_loss: 0.0045\n",
            "Epoch 68/100\n",
            "235/235 [==============================] - 1s 6ms/step - loss: 0.0045 - val_loss: 0.0044\n",
            "Epoch 69/100\n",
            "235/235 [==============================] - 1s 5ms/step - loss: 0.0044 - val_loss: 0.0044\n",
            "Epoch 70/100\n",
            "235/235 [==============================] - 1s 4ms/step - loss: 0.0044 - val_loss: 0.0044\n",
            "Epoch 71/100\n",
            "235/235 [==============================] - 1s 4ms/step - loss: 0.0044 - val_loss: 0.0044\n",
            "Epoch 72/100\n",
            "235/235 [==============================] - 1s 3ms/step - loss: 0.0044 - val_loss: 0.0045\n",
            "Epoch 73/100\n",
            "235/235 [==============================] - 1s 4ms/step - loss: 0.0044 - val_loss: 0.0044\n",
            "Epoch 74/100\n",
            "235/235 [==============================] - 1s 4ms/step - loss: 0.0044 - val_loss: 0.0043\n",
            "Epoch 75/100\n",
            "235/235 [==============================] - 1s 4ms/step - loss: 0.0044 - val_loss: 0.0046\n",
            "Epoch 76/100\n",
            "235/235 [==============================] - 1s 3ms/step - loss: 0.0044 - val_loss: 0.0043\n",
            "Epoch 77/100\n",
            "235/235 [==============================] - 1s 4ms/step - loss: 0.0044 - val_loss: 0.0043\n",
            "Epoch 78/100\n",
            "235/235 [==============================] - 1s 4ms/step - loss: 0.0044 - val_loss: 0.0044\n",
            "Epoch 79/100\n",
            "235/235 [==============================] - 1s 4ms/step - loss: 0.0044 - val_loss: 0.0047\n",
            "Epoch 80/100\n",
            "235/235 [==============================] - 1s 4ms/step - loss: 0.0044 - val_loss: 0.0044\n",
            "Epoch 81/100\n",
            "235/235 [==============================] - 1s 4ms/step - loss: 0.0044 - val_loss: 0.0043\n",
            "Epoch 82/100\n",
            "235/235 [==============================] - 1s 5ms/step - loss: 0.0044 - val_loss: 0.0044\n",
            "Epoch 83/100\n",
            "235/235 [==============================] - 1s 5ms/step - loss: 0.0044 - val_loss: 0.0043\n",
            "Epoch 84/100\n",
            "235/235 [==============================] - 1s 3ms/step - loss: 0.0044 - val_loss: 0.0044\n",
            "Epoch 85/100\n",
            "235/235 [==============================] - 1s 3ms/step - loss: 0.0044 - val_loss: 0.0044\n",
            "Epoch 86/100\n",
            "235/235 [==============================] - 1s 4ms/step - loss: 0.0044 - val_loss: 0.0045\n",
            "Epoch 87/100\n",
            "235/235 [==============================] - 1s 5ms/step - loss: 0.0044 - val_loss: 0.0046\n",
            "Epoch 88/100\n",
            "235/235 [==============================] - 2s 7ms/step - loss: 0.0044 - val_loss: 0.0043\n",
            "Epoch 89/100\n",
            "235/235 [==============================] - 1s 5ms/step - loss: 0.0044 - val_loss: 0.0043\n",
            "Epoch 90/100\n",
            "235/235 [==============================] - 1s 6ms/step - loss: 0.0044 - val_loss: 0.0043\n",
            "Epoch 91/100\n",
            "235/235 [==============================] - 1s 6ms/step - loss: 0.0044 - val_loss: 0.0042\n",
            "Epoch 92/100\n",
            "235/235 [==============================] - 1s 6ms/step - loss: 0.0044 - val_loss: 0.0043\n",
            "Epoch 93/100\n",
            "235/235 [==============================] - 2s 8ms/step - loss: 0.0044 - val_loss: 0.0044\n",
            "Epoch 94/100\n",
            "235/235 [==============================] - 1s 6ms/step - loss: 0.0044 - val_loss: 0.0043\n",
            "Epoch 95/100\n",
            "235/235 [==============================] - 1s 4ms/step - loss: 0.0044 - val_loss: 0.0044\n",
            "Epoch 96/100\n",
            "235/235 [==============================] - 1s 4ms/step - loss: 0.0044 - val_loss: 0.0043\n",
            "Epoch 97/100\n",
            "235/235 [==============================] - 1s 4ms/step - loss: 0.0044 - val_loss: 0.0042\n",
            "Epoch 98/100\n",
            "235/235 [==============================] - 1s 3ms/step - loss: 0.0044 - val_loss: 0.0044\n",
            "Epoch 99/100\n",
            "235/235 [==============================] - 1s 4ms/step - loss: 0.0043 - val_loss: 0.0044\n",
            "Epoch 100/100\n",
            "235/235 [==============================] - 1s 4ms/step - loss: 0.0044 - val_loss: 0.0044\n"
          ]
        }
      ],
      "source": [
        "history1 = autoencoder1.fit(x_train, x_train,\n",
        "                epochs=100,\n",
        "                batch_size=256,\n",
        "                shuffle=True,\n",
        "                validation_data=(x_test, x_test),\n",
        "                callbacks=[TensorBoard(log_dir='/tmp/autoencoder1')])"
      ]
    },
    {
      "cell_type": "code",
      "execution_count": null,
      "metadata": {
        "colab": {
          "base_uri": "https://localhost:8080/",
          "height": 207
        },
        "id": "sGzrhhVX75Bt",
        "outputId": "70657d67-cc2c-4615-88fe-ec2c21bf46a2"
      },
      "outputs": [
        {
          "output_type": "stream",
          "name": "stdout",
          "text": [
            "313/313 [==============================] - 1s 1ms/step\n"
          ]
        },
        {
          "output_type": "display_data",
          "data": {
            "text/plain": [
              "<Figure size 1440x288 with 20 Axes>"
            ],
            "image/png": "[encoded data removed]"
          },
          "metadata": {
            "needs_background": "light"
          }
        }
      ],
      "source": [
        "decoded_images = autoencoder1.predict(x_test)\n",
        "display_test_images(x_test, decoded_images)"
      ]
    },
    {
      "cell_type": "markdown",
      "metadata": {
        "id": "ELN2dspt6CKA"
      },
      "source": [
        "# Custom Defined Dense Architecture 1"
      ]
    },
    {
      "cell_type": "code",
      "execution_count": null,
      "metadata": {
        "id": "t-S4doauAXFJ"
      },
      "outputs": [],
      "source": [
        "input_img = keras.Input(shape=(784,))\n",
        "encoded = keras.layers.Dense(128, activation='relu')(input_img)\n",
        "encoded = keras.layers.BatchNormalization()(encoded)\n",
        "encoded = keras.layers.Dense(64, activation='relu')(encoded)\n",
        "encoded = keras.layers.BatchNormalization()(encoded)\n",
        "\n",
        "decoded = keras.layers.Dense(64, activation='relu')(encoded)\n",
        "encoded = keras.layers.BatchNormalization()(decoded)\n",
        "decoded = keras.layers.Dense(128, activation='relu')(decoded)\n",
        "encoded = keras.layers.BatchNormalization()(decoded)\n",
        "decoded = keras.layers.Dense(784, activation='sigmoid')(decoded)"
      ]
    },
    {
      "cell_type": "code",
      "execution_count": null,
      "metadata": {
        "colab": {
          "base_uri": "https://localhost:8080/"
        },
        "id": "G4xEUztjAwKz",
        "outputId": "eeacedbf-e27a-4f08-d118-cd6623a46f17"
      },
      "outputs": [
        {
          "output_type": "stream",
          "name": "stdout",
          "text": [
            "Model: \"model_1\"\n",
            "_________________________________________________________________\n",
            " Layer (type)                Output Shape              Param #   \n",
            "=================================================================\n",
            " input_2 (InputLayer)        [(None, 784)]             0         \n",
            "                                                                 \n",
            " dense_3 (Dense)             (None, 128)               100480    \n",
            "                                                                 \n",
            " batch_normalization (BatchN  (None, 128)              512       \n",
            " ormalization)                                                   \n",
            "                                                                 \n",
            " dense_4 (Dense)             (None, 64)                8256      \n",
            "                                                                 \n",
            " batch_normalization_1 (Batc  (None, 64)               256       \n",
            " hNormalization)                                                 \n",
            "                                                                 \n",
            " dense_5 (Dense)             (None, 64)                4160      \n",
            "                                                                 \n",
            " dense_6 (Dense)             (None, 128)               8320      \n",
            "                                                                 \n",
            " dense_7 (Dense)             (None, 784)               101136    \n",
            "                                                                 \n",
            "=================================================================\n",
            "Total params: 223,120\n",
            "Trainable params: 222,736\n",
            "Non-trainable params: 384\n",
            "_________________________________________________________________\n"
          ]
        }
      ],
      "source": [
        "autoencoder2 = keras.Model(input_img, decoded)\n",
        "autoencoder2.compile(optimizer=tf.keras.optimizers.Adam(learning_rate=1e-2), loss=loss)\n",
        "autoencoder2.summary()"
      ]
    },
    {
      "cell_type": "code",
      "execution_count": null,
      "metadata": {
        "colab": {
          "base_uri": "https://localhost:8080/"
        },
        "id": "7dmHp4-909ol",
        "outputId": "05e8e278-8e85-4b5a-acba-3847cff57097"
      },
      "outputs": [
        {
          "output_type": "stream",
          "name": "stdout",
          "text": [
            "Epoch 1/100\n",
            "235/235 [==============================] - 4s 6ms/step - loss: 0.0294 - val_loss: 0.0282\n",
            "Epoch 2/100\n",
            "235/235 [==============================] - 1s 5ms/step - loss: 0.0151 - val_loss: 0.0155\n",
            "Epoch 3/100\n",
            "235/235 [==============================] - 1s 5ms/step - loss: 0.0125 - val_loss: 0.0122\n",
            "Epoch 4/100\n",
            "235/235 [==============================] - 1s 5ms/step - loss: 0.0111 - val_loss: 0.0118\n",
            "Epoch 5/100\n",
            "235/235 [==============================] - 1s 5ms/step - loss: 0.0102 - val_loss: 0.0100\n",
            "Epoch 6/100\n",
            "235/235 [==============================] - 1s 5ms/step - loss: 0.0095 - val_loss: 0.0094\n",
            "Epoch 7/100\n",
            "235/235 [==============================] - 1s 5ms/step - loss: 0.0090 - val_loss: 0.0092\n",
            "Epoch 8/100\n",
            "235/235 [==============================] - 1s 6ms/step - loss: 0.0085 - val_loss: 0.0082\n",
            "Epoch 9/100\n",
            "235/235 [==============================] - 2s 6ms/step - loss: 0.0080 - val_loss: 0.0077\n",
            "Epoch 10/100\n",
            "235/235 [==============================] - 1s 5ms/step - loss: 0.0077 - val_loss: 0.0075\n",
            "Epoch 11/100\n",
            "233/235 [============================>.] - ETA: 0s - loss: 0.0072"
          ]
        }
      ],
      "source": [
        "history2 = autoencoder2.fit(x_train, x_train,\n",
        "                epochs=100,\n",
        "                batch_size=256,\n",
        "                shuffle=True,\n",
        "                validation_data=(x_test, x_test))"
      ]
    },
    {
      "cell_type": "code",
      "execution_count": null,
      "metadata": {
        "id": "UxUcHhG-Aybz"
      },
      "outputs": [],
      "source": [
        "decoded_images = autoencoder2.predict(x_test)\n",
        "display_test_images(x_test, decoded_images)"
      ]
    },
    {
      "cell_type": "markdown",
      "metadata": {
        "id": "BgS4tb9cCX7e"
      },
      "source": [
        "# Custom defined Dense Architecture 2"
      ]
    },
    {
      "cell_type": "code",
      "execution_count": null,
      "metadata": {
        "id": "3gcbnj2z9OZY"
      },
      "outputs": [],
      "source": [
        "input_img = keras.Input(shape=(784,))\n",
        "encoded = keras.layers.Dense(256, activation='relu')(input_img)\n",
        "\n",
        "decoded = keras.layers.Dense(256, activation='relu')(encoded)\n",
        "decoded = keras.layers.Dense(784, activation='sigmoid')(decoded)"
      ]
    },
    {
      "cell_type": "code",
      "execution_count": null,
      "metadata": {
        "id": "Z0eWmZts9OL7"
      },
      "outputs": [],
      "source": [
        "autoencoder3 = keras.Model(input_img, decoded)\n",
        "autoencoder3.compile(optimizer=tf.keras.optimizers.Adam(learning_rate=1e-2), loss=loss)\n",
        "autoencoder3.summary()"
      ]
    },
    {
      "cell_type": "code",
      "execution_count": null,
      "metadata": {
        "id": "FQLD-51i9N9H"
      },
      "outputs": [],
      "source": [
        "history3 = autoencoder3.fit(x_train, x_train,\n",
        "                epochs=100,\n",
        "                batch_size=256,\n",
        "                shuffle=True,\n",
        "                validation_data=(x_test, x_test))"
      ]
    },
    {
      "cell_type": "code",
      "execution_count": null,
      "metadata": {
        "id": "yryE-Kt99W3X"
      },
      "outputs": [],
      "source": [
        "decoded_images = autoencoder3.predict(x_test)\n",
        "display_test_images(x_test, decoded_images)"
      ]
    },
    {
      "cell_type": "markdown",
      "metadata": {
        "id": "a-mBXkPLDL4V"
      },
      "source": [
        "# Basic CNN"
      ]
    },
    {
      "cell_type": "code",
      "execution_count": null,
      "metadata": {
        "id": "xQetQuaDDW7p"
      },
      "outputs": [],
      "source": [
        "input_img = tf.keras.layers.Input(shape=(28, 28, 1)) # adapt this if using `channels_first` image data format\n",
        "\n",
        "x = tf.keras.layers.Conv2D(16, (3, 3), activation='relu', padding='same')(input_img)\n",
        "x = tf.keras.layers.MaxPooling2D((2, 2), padding='same')(x)\n",
        "x = tf.keras.layers.Conv2D(8, (3, 3), activation='relu', padding='same')(x)\n",
        "x = tf.keras.layers.MaxPooling2D((2, 2), padding='same')(x)\n",
        "x = tf.keras.layers.Conv2D(8, (3, 3), activation='relu', padding='same')(x)\n",
        "encoded = tf.keras.layers.MaxPooling2D((2, 2), padding='same')(x)\n",
        "\n",
        "# at this point the representation is (4, 4, 8) i.e. 128-dimensional\n",
        "\n",
        "x = tf.keras.layers.Conv2D(8, (3, 3), activation='relu', padding='same')(encoded)\n",
        "x = tf.keras.layers.UpSampling2D((2, 2))(x)\n",
        "x = tf.keras.layers.Conv2D(8, (3, 3), activation='relu', padding='same')(x)\n",
        "x = tf.keras.layers.UpSampling2D((2, 2))(x)\n",
        "x = tf.keras.layers.Conv2D(16, (3, 3), activation='relu')(x)\n",
        "x = tf.keras.layers.UpSampling2D((2, 2))(x)\n",
        "decoded = tf.keras.layers.Conv2D(1, (3, 3), activation='sigmoid', padding='same')(x)\n",
        "\n",
        "autoencoder4 = tf.keras.models.Model(input_img, decoded)\n",
        "autoencoder4.compile(optimizer='adadelta', loss='binary_crossentropy')"
      ]
    },
    {
      "cell_type": "code",
      "execution_count": null,
      "metadata": {
        "id": "nkexGlRcDXh8"
      },
      "outputs": [],
      "source": [
        "# to train this model we will with original MNIST digits with shape (samples, 3, 28, 28) and we will just normalize pixel values between 0 and 1\n",
        "# (x_train, _), (x_test, _) = load_data('../input/mnist.npz')\n",
        "from tensorflow.keras.datasets import mnist\n",
        "(x_train, _), (x_test, _) = mnist.load_data()\n",
        "\n",
        "x_train = x_train.astype('float32') / 255.\n",
        "x_test = x_test.astype('float32') / 255.\n",
        "x_train = np.reshape(x_train, (len(x_train), 28, 28, 1))\n",
        "x_test = np.reshape(x_test, (len(x_test), 28, 28, 1))"
      ]
    },
    {
      "cell_type": "code",
      "execution_count": null,
      "metadata": {
        "id": "j7hJOPkDDjSa"
      },
      "outputs": [],
      "source": [
        "history4 = autoencoder4.fit(x_train, x_train, epochs=100, batch_size=128,\n",
        "                shuffle=True, validation_data=(x_test, x_test),\n",
        "                callbacks=[tf.keras.callbacks.TensorBoard(log_dir='./tmp/autoencoder')])"
      ]
    },
    {
      "cell_type": "code",
      "execution_count": null,
      "metadata": {
        "id": "oK2UhsDI-Dhr"
      },
      "outputs": [],
      "source": [
        "decoded_images = autoencoder4.predict(x_test)\n",
        "display_test_images(x_test, decoded_images)"
      ]
    },
    {
      "cell_type": "markdown",
      "metadata": {
        "id": "Kwc_6a57Dw-7"
      },
      "source": [
        "# Complex CNN"
      ]
    },
    {
      "cell_type": "markdown",
      "metadata": {
        "id": "WTVE_fAwARFV"
      },
      "source": []
    },
    {
      "cell_type": "code",
      "execution_count": null,
      "metadata": {
        "id": "TMiN3Rq-D0Rv"
      },
      "outputs": [],
      "source": [
        "from tensorflow.keras.layers import BatchNormalization\n",
        "from tensorflow.keras.metrics import RootMeanSquaredError\n",
        "\n",
        "input_img = tf.keras.layers.Input(shape=(28, 28, 1)) # adapt this if using `channels_first` image data format\n",
        "\n",
        "encoded = tf.keras.layers.Conv2D(128, (3, 3), activation='relu', padding='same')(input_img)\n",
        "encoded = BatchNormalization()(encoded)\n",
        "encoded = tf.keras.layers.Conv2D(128, (3, 3), activation='relu', padding='same')(encoded)\n",
        "encoded = BatchNormalization()(encoded)\n",
        "encoded = tf.keras.layers.MaxPooling2D((2, 2), padding='same')(encoded)\n",
        "encoded = tf.keras.layers.Conv2D(64, (3, 3), activation='relu', padding='same')(encoded)\n",
        "encoded = BatchNormalization()(encoded)\n",
        "encoded = tf.keras.layers.Conv2D(64, (3, 3), activation='relu', padding='same')(encoded)\n",
        "encoded = BatchNormalization()(encoded)\n",
        "encoded = tf.keras.layers.Conv2D(32, (3, 3), activation='relu', padding='same')(encoded)\n",
        "encoded = BatchNormalization()(encoded)\n",
        "encoded = tf.keras.layers.Conv2D(32, (3, 3), activation='relu', padding='same')(encoded)\n",
        "\n",
        "# print(encoded)\n",
        "\n",
        "decoded = tf.keras.layers.Conv2D(32, (3, 3), activation='relu', padding='same')(encoded)\n",
        "decoded = BatchNormalization()(decoded)\n",
        "decoded = tf.keras.layers.Conv2D(32, (3, 3), activation='relu', padding='same')(decoded)\n",
        "decoded = BatchNormalization()(decoded)\n",
        "decoded = tf.keras.layers.Conv2D(64, (3, 3), activation='relu', padding='same')(decoded)\n",
        "decoded = BatchNormalization()(decoded)\n",
        "decoded = tf.keras.layers.Conv2D(64, (3, 3), activation='relu', padding='same')(decoded)\n",
        "decoded = BatchNormalization()(decoded)\n",
        "\n",
        "decoded = tf.keras.layers.Conv2D(128, (3, 3), activation='relu', padding='same')(decoded)\n",
        "decoded = BatchNormalization()(decoded)\n",
        "decoded = tf.keras.layers.UpSampling2D((2, 2))(decoded)\n",
        "decoded = tf.keras.layers.Conv2D(128, (3, 3), activation='relu', padding='same')(decoded)\n",
        "decoded = BatchNormalization()(decoded)\n",
        "\n",
        "\n",
        "decoded = tf.keras.layers.Conv2D(1, (3, 3), activation='sigmoid', padding='same')(decoded)\n"
      ]
    },
    {
      "cell_type": "code",
      "execution_count": null,
      "metadata": {
        "id": "WD6BQ4rJ_CxI"
      },
      "outputs": [],
      "source": [
        "autoencoder5 = tf.keras.models.Model(input_img, decoded)\n",
        "autoencoder5.compile(optimizer='adam', loss='mse', metrics=[RootMeanSquaredError()])\n",
        "autoencoder5.summary()"
      ]
    },
    {
      "cell_type": "code",
      "execution_count": null,
      "metadata": {
        "id": "ayU1sWxBGDOQ"
      },
      "outputs": [],
      "source": [
        "from tensorflow.keras.datasets import mnist\n",
        "(x_train, _), (x_test, _) = mnist.load_data()\n",
        "\n",
        "x_train = x_train.astype('float32') / 255.\n",
        "x_test = x_test.astype('float32') / 255.\n",
        "x_train = np.reshape(x_train, (len(x_train), 28, 28, 1))\n",
        "x_test = np.reshape(x_test, (len(x_test), 28, 28, 1))"
      ]
    },
    {
      "cell_type": "code",
      "execution_count": null,
      "metadata": {
        "id": "azlZH3LAGDmK"
      },
      "outputs": [],
      "source": [
        "from tensorflow.keras.callbacks import ModelCheckpoint\n",
        "\n",
        "checkpoint_path = \"improved_cnn_section1.h5\"\n",
        "checkpoint = ModelCheckpoint(checkpoint_path, monitor='val_loss', verbose=1, save_best_only=True, mode='max')"
      ]
    },
    {
      "cell_type": "code",
      "execution_count": null,
      "metadata": {
        "id": "wlzOiVxdGH86"
      },
      "outputs": [],
      "source": [
        "\n",
        "history5 = autoencoder5.fit(x_train, x_train, epochs=100, batch_size=128,\n",
        "                shuffle=True, validation_data=(x_test, x_test),\n",
        "                callbacks=[tf.keras.callbacks.TensorBoard(log_dir='./tmp/autoencoder'), checkpoint])"
      ]
    },
    {
      "cell_type": "code",
      "execution_count": null,
      "metadata": {
        "id": "EN6yVbVUHwnV"
      },
      "outputs": [],
      "source": [
        "decoded_images = autoencoder5.predict(x_test)\n",
        "display_test_images(x_test, decoded_images)"
      ]
    },
    {
      "cell_type": "markdown",
      "metadata": {
        "id": "8y7hhAl4B38F"
      },
      "source": [
        "# Summary of above"
      ]
    },
    {
      "cell_type": "markdown",
      "source": [
        "1. Model 1 = Dense 128, Adam, le-2, loss 0.0043\n",
        "2. Model 2 = Dense 128, 64, Adam, le-2, loss 0.0041\n",
        "3. Model 3 = Dense 256, Adam, le-2 loss 0.0034\n",
        "4. Model 4 = Basic CNN - 16, 8, 8, Maxpool, adadelta,\n",
        "crossentropy, loss 0.19\n",
        "5. Model 5 = CNN 128, 64, 32, Maxpool, Batch normalization , adam, loss = 0.0042"
      ],
      "metadata": {
        "id": "8C2WcM59-0-s"
      }
    },
    {
      "cell_type": "markdown",
      "source": [
        "From the above experiments, for simple image reconstruction:\n",
        "1. only one Dense layer is enough for a good accuracy. 2. The accuracy did not improve with adding more layers to Dense network.\n",
        "3. Increasing the neurons from 128 to 256 in Dense layer has slightly improved the accuracy but increasing even more to 512 did not change anything\n",
        "4. The CNN's perform similar to dense since it is a simple image reconstruction and even dense networks can work better as there is not a lot of spatial information.\n",
        "5. Simple CNN will of course not work better as number of filters are very less.\n",
        "6. Increasing the filters, adding Maxpool and batchnormalizing has given siliar results to that of a dense model.\n",
        "7. Also from the graph we can see that complex CNN in fact dont need a lot of epochs to get trained\n",
        "8. Adam optimizers are better than adadelta"
      ],
      "metadata": {
        "id": "zl2ExlUfWj0D"
      }
    },
    {
      "cell_type": "code",
      "source": [
        "loss_plot(history1, \"Dense 128, Adam, le-2, loss 0.0043\")\n",
        "loss_plot(history2, \"Dense 128, 64, Adam, le-2, loss 0.0041\")\n",
        "loss_plot(history3, \"Dense 256, Adam, le-2, loss 0.0034\")\n",
        "loss_plot(history4, \"Basic CNN - 16, 8, 8, Maxpool, adadelta, crossentropy, loss 0.19\")\n",
        "loss_plot(history5, \"CNN 128, 64, 32, Maxpool, Batch normalization , adam, loss = 0.0042\")"
      ],
      "metadata": {
        "id": "bytpL4-z-iv4"
      },
      "execution_count": null,
      "outputs": []
    },
    {
      "cell_type": "markdown",
      "source": [
        "# Custom dense Architecture 1"
      ],
      "metadata": {
        "id": "JeP6xkqGKHnn"
      }
    },
    {
      "cell_type": "code",
      "execution_count": null,
      "metadata": {
        "id": "UUZoyZ6JCCL_"
      },
      "outputs": [],
      "source": [
        "from keras.datasets import mnist\n",
        "import numpy as np\n",
        "\n",
        "(x_train, _), (x_test, _) = mnist.load_data()\n",
        "\n",
        "x_train = x_train.astype('float32') / 255.\n",
        "x_test = x_test.astype('float32') / 255.\n",
        "x_train = x_train.reshape((len(x_train), np.prod(x_train.shape[1:])))\n",
        "x_test = x_test.reshape((len(x_test), np.prod(x_test.shape[1:])))\n",
        "\n",
        "noise_factor = 0.5\n",
        "x_train_noisy = x_train + noise_factor * np.random.normal(loc=0.0, scale=1.0, size=x_train.shape)\n",
        "x_test_noisy = x_test + noise_factor * np.random.normal(loc=0.0, scale=1.0, size=x_test.shape)\n",
        "\n",
        "x_train_noisy = np.clip(x_train_noisy, 0., 1.)\n",
        "x_test_noisy = np.clip(x_test_noisy, 0., 1.)"
      ]
    },
    {
      "cell_type": "code",
      "execution_count": null,
      "metadata": {
        "id": "kL-z4az4CiGW"
      },
      "outputs": [],
      "source": [
        "n = 10\n",
        "plt.figure(figsize=(20, 2))\n",
        "for i in range(1, n + 1):\n",
        "    ax = plt.subplot(1, n, i)\n",
        "    plt.imshow(x_test_noisy[i].reshape(28, 28))\n",
        "    plt.gray()\n",
        "    ax.get_xaxis().set_visible(False)\n",
        "    ax.get_yaxis().set_visible(False)\n",
        "plt.show()"
      ]
    },
    {
      "cell_type": "code",
      "execution_count": null,
      "metadata": {
        "id": "glKMFX3nCwoi"
      },
      "outputs": [],
      "source": [
        "input_img = keras.Input(shape=(784,))\n",
        "encoded = keras.layers.Dense(128, activation='relu')(input_img)\n",
        "encoded = keras.layers.Dense(64, activation='relu')(encoded)\n",
        "encoded = keras.layers.BatchNormalization()(encoded)\n",
        "\n",
        "decoded = keras.layers.Dense(128, activation='relu')(encoded)\n",
        "decoded = keras.layers.BatchNormalization()(decoded)\n",
        "decoded = keras.layers.Dense(784, activation='sigmoid')(decoded)"
      ]
    },
    {
      "cell_type": "code",
      "execution_count": null,
      "metadata": {
        "id": "e2y14j_yDrLI"
      },
      "outputs": [],
      "source": [
        "autoencoder6 = keras.Model(input_img, decoded)\n",
        "autoencoder6.compile(optimizer=tf.keras.optimizers.Adam(learning_rate=1e-2), loss=loss)\n",
        "autoencoder6.summary()"
      ]
    },
    {
      "cell_type": "code",
      "execution_count": null,
      "metadata": {
        "id": "XzXlZWooD2pw"
      },
      "outputs": [],
      "source": [
        "history6 = autoencoder6.fit(x_train_noisy, x_train,\n",
        "                epochs=100,\n",
        "                batch_size=256,\n",
        "                shuffle=True,\n",
        "                validation_data=(x_test_noisy, x_test),\n",
        "                callbacks=[TensorBoard(log_dir='/tmp/autoencoder1')])"
      ]
    },
    {
      "cell_type": "code",
      "execution_count": null,
      "metadata": {
        "id": "w2rFF-U9D9E_"
      },
      "outputs": [],
      "source": [
        "decoded_images = autoencoder6.predict(x_test_noisy)\n",
        "display_test_images(x_test_noisy, decoded_images)"
      ]
    },
    {
      "cell_type": "markdown",
      "metadata": {
        "id": "YFsKm_6I_t1Q"
      },
      "source": [
        "# Custom Dense Architecture 2"
      ]
    },
    {
      "cell_type": "code",
      "execution_count": null,
      "metadata": {
        "id": "yzNbgOCrFIAM"
      },
      "outputs": [],
      "source": [
        "input_img = keras.Input(shape=(784,))\n",
        "encoded = keras.layers.Dense(256, activation='relu')(input_img)\n",
        "encoded = keras.layers.Dense(128, activation='relu')(encoded)\n",
        "encoded = keras.layers.BatchNormalization()(encoded)\n",
        "\n",
        "decoded = keras.layers.Dense(128, activation='relu')(encoded)\n",
        "decoded = keras.layers.Dense(256, activation='relu')(decoded)\n",
        "decoded = keras.layers.BatchNormalization()(decoded)\n",
        "decoded = keras.layers.Dense(784, activation='sigmoid')(decoded)"
      ]
    },
    {
      "cell_type": "code",
      "execution_count": null,
      "metadata": {
        "id": "BNncRu92FQ8T"
      },
      "outputs": [],
      "source": [
        "autoencoder7 = keras.Model(input_img, decoded)\n",
        "autoencoder7.compile(optimizer=tf.keras.optimizers.Adam(learning_rate=1e-2), loss=loss)\n",
        "autoencoder7.summary()"
      ]
    },
    {
      "cell_type": "code",
      "execution_count": null,
      "metadata": {
        "id": "vHfmMRUnFZMI"
      },
      "outputs": [],
      "source": [
        "history7 = autoencoder7.fit(x_train_noisy, x_train,\n",
        "                epochs=100,\n",
        "                batch_size=256,\n",
        "                shuffle=True,\n",
        "                validation_data=(x_test_noisy, x_test),\n",
        "                callbacks=[TensorBoard(log_dir='/tmp/autoencoder1')])"
      ]
    },
    {
      "cell_type": "code",
      "execution_count": null,
      "metadata": {
        "id": "AcAwd4zNFieb"
      },
      "outputs": [],
      "source": [
        "decoded_images = autoencoder7.predict(x_test_noisy)\n",
        "display_test_images(x_test_noisy, decoded_images)"
      ]
    },
    {
      "cell_type": "markdown",
      "metadata": {
        "id": "zcyred_e_yIM"
      },
      "source": [
        "# Custom Simple CNN Architecture 1"
      ]
    },
    {
      "cell_type": "code",
      "execution_count": null,
      "metadata": {
        "id": "4E7oeYh2GBZs"
      },
      "outputs": [],
      "source": [
        "from keras.datasets import mnist\n",
        "import numpy as np\n",
        "\n",
        "(x_train, _), (x_test, _) = mnist.load_data()\n",
        "\n",
        "x_train = x_train.astype('float32') / 255.\n",
        "x_test = x_test.astype('float32') / 255.\n",
        "x_train = np.reshape(x_train, (len(x_train), 28, 28, 1))\n",
        "x_test = np.reshape(x_test, (len(x_test), 28, 28, 1))\n",
        "\n",
        "noise_factor = 0.5\n",
        "x_train_noisy = x_train + noise_factor * np.random.normal(loc=0.0, scale=1.0, size=x_train.shape)\n",
        "x_test_noisy = x_test + noise_factor * np.random.normal(loc=0.0, scale=1.0, size=x_test.shape)\n",
        "\n",
        "x_train_noisy = np.clip(x_train_noisy, 0., 1.)\n",
        "x_test_noisy = np.clip(x_test_noisy, 0., 1.)"
      ]
    },
    {
      "cell_type": "code",
      "execution_count": null,
      "metadata": {
        "id": "PZW-dxycF7Id"
      },
      "outputs": [],
      "source": [
        "input_img = tf.keras.layers.Input(shape=(28, 28, 1)) # adapt this if using `channels_first` image data format\n",
        "\n",
        "x = tf.keras.layers.Conv2D(32, (3, 3), activation='relu', padding='same')(input_img)\n",
        "x = tf.keras.layers.MaxPooling2D((2, 2), padding='same')(x)\n",
        "x = tf.keras.layers.Conv2D(64, (3, 3), activation='relu', padding='same')(x)\n",
        "x = tf.keras.layers.MaxPooling2D((2, 2), padding='same')(x)\n",
        "x = tf.keras.layers.Conv2D(128, (3, 3), activation='relu', padding='same')(x)\n",
        "encoded = tf.keras.layers.MaxPooling2D((2, 2), padding='same')(x)\n",
        "\n",
        "# at this point the representation is (4, 4, 8) i.e. 128-dimensional\n",
        "\n",
        "x = tf.keras.layers.Conv2D(128, (3, 3), activation='relu', padding='same')(encoded)\n",
        "x = tf.keras.layers.UpSampling2D((2, 2))(x)\n",
        "x = tf.keras.layers.Conv2D(64, (3, 3), activation='relu', padding='same')(x)\n",
        "x = tf.keras.layers.UpSampling2D((2, 2))(x)\n",
        "x = tf.keras.layers.Conv2D(32, (3, 3), activation='relu')(x)\n",
        "x = tf.keras.layers.UpSampling2D((2, 2))(x)\n",
        "decoded = tf.keras.layers.Conv2D(1, (3, 3), activation='sigmoid', padding='same')(x)\n",
        "\n",
        "autoencoder8 = tf.keras.models.Model(input_img, decoded)\n",
        "autoencoder8.compile(optimizer='adadelta', loss=loss)"
      ]
    },
    {
      "cell_type": "code",
      "execution_count": null,
      "metadata": {
        "id": "Htc75Cm9GFjl"
      },
      "outputs": [],
      "source": [
        "history8 = autoencoder8.fit(x_train_noisy, x_train, epochs=100, batch_size=128,\n",
        "                shuffle=True, validation_data=(x_test_noisy, x_test),\n",
        "                callbacks=[tf.keras.callbacks.TensorBoard(log_dir='./tmp/autoencoder')])"
      ]
    },
    {
      "cell_type": "code",
      "execution_count": null,
      "metadata": {
        "id": "Yups3KVbGMR_"
      },
      "outputs": [],
      "source": [
        "decoded_images = autoencoder8.predict(x_test_noisy)\n",
        "display_test_images(x_test_noisy, decoded_images)"
      ]
    },
    {
      "cell_type": "markdown",
      "metadata": {
        "id": "Zmr2lMeb_9mQ"
      },
      "source": [
        "# Custom Complex CNN Architecture 1"
      ]
    },
    {
      "cell_type": "code",
      "execution_count": null,
      "metadata": {
        "id": "_y97fA6mGx_5"
      },
      "outputs": [],
      "source": [
        "from tensorflow.keras.layers import BatchNormalization\n",
        "from tensorflow.keras.metrics import RootMeanSquaredError\n",
        "\n",
        "input_img = tf.keras.layers.Input(shape=(28, 28, 1)) # adapt this if using `channels_first` image data format\n",
        "\n",
        "encoded = tf.keras.layers.Conv2D(128, (3, 3), activation='relu', padding='same')(input_img)\n",
        "encoded = tf.keras.layers.MaxPooling2D((2, 2), padding='same')(encoded)\n",
        "encoded = tf.keras.layers.Conv2D(64, (3, 3), activation='relu', padding='same')(encoded)\n",
        "encoded = BatchNormalization()(encoded)\n",
        "encoded = tf.keras.layers.Conv2D(32, (3, 3), activation='relu', padding='same')(encoded)\n",
        "\n",
        "# print(encoded)\n",
        "\n",
        "decoded = tf.keras.layers.Conv2D(32, (3, 3), activation='relu', padding='same')(encoded)\n",
        "decoded = tf.keras.layers.Conv2D(64, (3, 3), activation='relu', padding='same')(decoded)\n",
        "decoded = BatchNormalization()(decoded)\n",
        "decoded = tf.keras.layers.Conv2D(128, (3, 3), activation='relu', padding='same')(decoded)\n",
        "decoded = tf.keras.layers.UpSampling2D((2, 2))(decoded)\n",
        "decoded = tf.keras.layers.Conv2D(1, (3, 3), activation='sigmoid', padding='same')(decoded)\n"
      ]
    },
    {
      "cell_type": "code",
      "execution_count": null,
      "metadata": {
        "id": "WOVqGENfHftk"
      },
      "outputs": [],
      "source": [
        "autoencoder9 = tf.keras.models.Model(input_img, decoded)\n",
        "autoencoder9.compile(optimizer='adam', loss='mse', metrics=[RootMeanSquaredError()])\n",
        "autoencoder9.summary()"
      ]
    },
    {
      "cell_type": "code",
      "execution_count": null,
      "metadata": {
        "id": "jm4d54oaHoao"
      },
      "outputs": [],
      "source": [
        "history9 = autoencoder9.fit(x_train_noisy, x_train, epochs=100, batch_size=128,\n",
        "                shuffle=True, validation_data=(x_test_noisy, x_test),\n",
        "                callbacks=[tf.keras.callbacks.TensorBoard(log_dir='./tmp/autoencoder')])"
      ]
    },
    {
      "cell_type": "code",
      "execution_count": null,
      "metadata": {
        "id": "zOyWgfadIBSK"
      },
      "outputs": [],
      "source": [
        "decoded_images = autoencoder9.predict(x_test_noisy)\n",
        "display_test_images(x_test_noisy, decoded_images)"
      ]
    },
    {
      "cell_type": "markdown",
      "source": [
        "# Summary of section 2"
      ],
      "metadata": {
        "id": "E40M-mBSAYIT"
      }
    },
    {
      "cell_type": "markdown",
      "metadata": {
        "id": "0XEvUlYdAKU2"
      },
      "source": [
        "1. Model 6 = Dense 128, 64, 128, Batch Norm Adam, le-2, loss 0.014\n",
        "2. Model 7 = Dense 256, 128, Batch Norm, Adam, loss 0.012\n",
        "3. Model 8 = Basic CNN - 16, 8, 8, Maxpool, adadelta,\n",
        "crossentropy, 0.05\n",
        "4. Model 9 = 128, 64, 32, Maxpool, batch norm, 0.09"
      ]
    },
    {
      "cell_type": "markdown",
      "source": [
        "1. CNNs have an advantage over dense neural networks due to their ability to learn spatial patterns in the data\n",
        "2. We can see that CNNs are more effective than dense neural networks for handling noisy data because they use pooling layers to reduce the effects of noise in the data.\n",
        "So for this kind of data which is complex non-linear, dense networks may not be of great help"
      ],
      "metadata": {
        "id": "qOpwnmyjiboX"
      }
    },
    {
      "cell_type": "code",
      "source": [
        "loss_plot(history6, \"Dense 128, 64, 128, Batch Norm Adam, le-2, loss 0.014\")\n",
        "loss_plot(history7, \"256, 128, Batch Norm, Adam, loss 0.012\")\n",
        "loss_plot(history8, \"Basic CNN - 16, 8, 8, Maxpool, adadelta, crossentropy, 0.05\")\n",
        "loss_plot(history9, \"128, 64, 32, Maxpool, batch norm, 0.0069\")"
      ],
      "metadata": {
        "id": "k_jf8j0aAhiy"
      },
      "execution_count": null,
      "outputs": []
    },
    {
      "cell_type": "markdown",
      "metadata": {
        "id": "fqBlaeHrI6CR"
      },
      "source": [
        "# Text Reconstruction Dense model 1"
      ]
    },
    {
      "cell_type": "code",
      "execution_count": null,
      "metadata": {
        "id": "3pU41bbYhXTR"
      },
      "outputs": [],
      "source": [
        "from keras import backend as K\n",
        "\n",
        "# Do some code, e.g. train and save model\n",
        "\n",
        "K.clear_session()"
      ]
    },
    {
      "cell_type": "code",
      "execution_count": null,
      "metadata": {
        "id": "1fMgOHpAesG6"
      },
      "outputs": [],
      "source": [
        "def print_recontructed_text(X_test, predicted_label):\n",
        "\n",
        "    for i in range(4):\n",
        "      f, ax = plt.subplots(1,2, figsize=(10,8))\n",
        "      ax[0].imshow(np.squeeze(X_test[i]), cmap='gray')\n",
        "      ax[1].imshow(predicted_label[i], cmap='gray')\n",
        "    plt.show()"
      ]
    },
    {
      "cell_type": "code",
      "execution_count": null,
      "metadata": {
        "id": "kP2PQOJiGLhA"
      },
      "outputs": [],
      "source": [
        "!pip install -U -q PyDrive\n",
        "from pydrive.auth import GoogleAuth\n",
        "from pydrive.drive import GoogleDrive\n",
        "from google.colab import auth\n",
        "from oauth2client.client import GoogleCredentials\n",
        "from pathlib import Path\n",
        "import glob\n",
        "import numpy as np\n",
        "import pandas as pd\n",
        "import matplotlib.pyplot as plt\n",
        "from skimage.io import imread, imshow, imsave\n",
        "from tensorflow.keras.preprocessing.image import load_img, array_to_img, img_to_array\n",
        "from keras.models import Sequential, Model\n",
        "from keras.layers import Dense, Conv2D, MaxPooling2D, UpSampling2D, Flatten, Input\n",
        "from keras.optimizers import SGD, Adam, Adadelta, Adagrad\n",
        "from keras import backend as K\n",
        "from sklearn.model_selection import train_test_split\n",
        "from tensorflow.keras.callbacks import ModelCheckpoint, ReduceLROnPlateau\n",
        "np.random.seed(111)"
      ]
    },
    {
      "cell_type": "code",
      "execution_count": null,
      "metadata": {
        "id": "QRT4atMncQEZ"
      },
      "outputs": [],
      "source": [
        "auth.authenticate_user()\n",
        "g_auth = GoogleAuth()\n",
        "g_auth.credentials = GoogleCredentials.get_application_default()\n",
        "drive = GoogleDrive(g_auth)\n",
        "drive"
      ]
    },
    {
      "cell_type": "code",
      "execution_count": null,
      "metadata": {
        "id": "WLFwSmwfcSNW"
      },
      "outputs": [],
      "source": [
        "file_id = drive.ListFile({'q':\"title='train.zip'\"}).GetList()[0]\n",
        "f1 = drive.CreateFile({'id': file_id['id']})\n",
        "f1.GetContentFile('train.zip')\n",
        "\n",
        "file_id = drive.ListFile({'q':\"title='train_cleaned.zip'\"}).GetList()[0]\n",
        "f2 = drive.CreateFile({'id': file_id['id']})\n",
        "f2.GetContentFile('train_cleaned.zip')\n",
        "\n",
        "file_id = drive.ListFile({'q':\"title='test.zip'\"}).GetList()[0]\n",
        "f3 = drive.CreateFile({'id': file_id['id']})\n",
        "f3.GetContentFile('test.zip')"
      ]
    },
    {
      "cell_type": "code",
      "execution_count": null,
      "metadata": {
        "id": "iDhpEs23cU0E"
      },
      "outputs": [],
      "source": [
        "!unzip train.zip\n",
        "!unzip train_cleaned.zip\n",
        "!unzip test.zip"
      ]
    },
    {
      "cell_type": "code",
      "execution_count": null,
      "metadata": {
        "id": "rg-SI1ARcZTC"
      },
      "outputs": [],
      "source": [
        "path_files = '/content/'"
      ]
    },
    {
      "cell_type": "code",
      "execution_count": null,
      "metadata": {
        "id": "ZhRYN5QKcbg0"
      },
      "outputs": [],
      "source": [
        "import os\n",
        "train_directory = os.path.join(path_files,\n",
        "                         'train')\n",
        "train_cleaned_directory = os.path.join(path_files,\n",
        "                         'train_cleaned')\n",
        "test_directory = os.path.join(path_files,\n",
        "                        'test')"
      ]
    },
    {
      "cell_type": "code",
      "execution_count": null,
      "metadata": {
        "id": "DOhs1DkIcdzd"
      },
      "outputs": [],
      "source": [
        "X = []\n",
        "Y = []\n",
        "X_test = []\n",
        "\n",
        "for img in os.listdir(train_directory):\n",
        "    img = load_img(train_directory + \"/\" + img, color_mode = \"grayscale\",target_size=(420,540))\n",
        "    img = img_to_array(img).astype('float32')/255.\n",
        "    X.append(img)\n",
        "\n",
        "for img in os.listdir(train_cleaned_directory):\n",
        "    img = load_img(train_cleaned_directory + \"/\" + img, color_mode = \"grayscale\",target_size=(420,540))\n",
        "    img = img_to_array(img).astype('float32')/255.\n",
        "    Y.append(img)\n",
        "\n",
        "for img in os.listdir(test_directory):\n",
        "    img = load_img(test_directory + \"/\" + img, color_mode = \"grayscale\",target_size=(420,540))\n",
        "    img = img_to_array(img).astype('float32')/255.\n",
        "    X_test.append(img)\n",
        "    if len(X_test) == 4:\n",
        "      break\n",
        "\n",
        "\n",
        "X = np.array(X)\n",
        "Y = np.array(Y)\n",
        "X_test = np.array(X_test)\n",
        "\n",
        "# Split the dataset into training and validation. Always set the random state!!\n",
        "X_train, X_valid, y_train, y_valid = train_test_split(X, Y, test_size=0.1, random_state=111)"
      ]
    },
    {
      "cell_type": "code",
      "execution_count": null,
      "metadata": {
        "id": "aDZuoAxPc7yL"
      },
      "outputs": [],
      "source": [
        "import tensorflow as tf\n",
        "from tensorflow.keras.metrics import RootMeanSquaredError\n",
        "import keras\n",
        "\n",
        "input_img = tf.keras.layers.Input(shape=(226800))\n",
        "encoder = tf.keras.layers.Dense(128, activation='relu')(input_img)\n",
        "encoder = tf.keras.layers.BatchNormalization()(encoder)\n",
        "encoder = tf.keras.layers.Dense(64, activation='relu')(encoder)\n",
        "encoder = tf.keras.layers.BatchNormalization()(encoder)\n",
        "\n",
        "decoder = tf.keras.layers.Dense(64, activation='relu')(encoder)\n",
        "decoder = tf.keras.layers.BatchNormalization()(decoder)\n",
        "decoder = tf.keras.layers.Dense(226800, activation='sigmoid')(decoder)\n",
        "\n",
        "autoencoder10 = tf.keras.models.Model(inputs=input_img, outputs=decoder)\n",
        "autoencoder10.compile(optimizer=tf.keras.optimizers.Adam(learning_rate = 1e-3), loss=tf.keras.losses.MSE, metrics = [RootMeanSquaredError()]) #loss=tf.keras.losses.MSE\n"
      ]
    },
    {
      "cell_type": "code",
      "execution_count": null,
      "metadata": {
        "id": "4X7LfCendXMz"
      },
      "outputs": [],
      "source": [
        "# Train your model\n",
        "X_train_flattend = np.reshape(X_train, (len(X_train), 226800))\n",
        "X_valid_flattend = np.reshape(X_valid, (len(X_valid), 226800))\n",
        "y_train_flattend = np.reshape(y_train, (len(y_train), 226800))\n",
        "y_valid_flattend = np.reshape(y_valid, (len(y_valid), 226800))\n",
        "\n",
        "X_test_flattend  = np.reshape(X_test, (len(X_test), 226800))\n",
        "\n",
        "history10 = autoencoder10.fit(X_train_flattend,y_train_flattend,\n",
        "                      epochs=100,\n",
        "                      batch_size=5,\n",
        "                      validation_data=(X_valid_flattend, y_valid_flattend))"
      ]
    },
    {
      "cell_type": "code",
      "execution_count": null,
      "metadata": {
        "id": "acdor9c2el1H"
      },
      "outputs": [],
      "source": [
        "# Compute the prediction\n",
        "predicted_label = autoencoder10.predict(X_test_flattend)\n",
        "print_recontructed_text(X_test, predicted_label)"
      ]
    },
    {
      "cell_type": "markdown",
      "metadata": {
        "id": "dNQsH2LvfJvW"
      },
      "source": [
        "# Basic CNN"
      ]
    },
    {
      "cell_type": "code",
      "execution_count": null,
      "metadata": {
        "id": "WhDYUvzxfN06"
      },
      "outputs": [],
      "source": [
        "import tensorflow as tf\n",
        "from tensorflow.keras.metrics import RootMeanSquaredError\n",
        "\n",
        "input_img = tf.keras.layers.Input(shape=(420, 540, 1)) # adapt this if using `channels_first` image data format\n",
        "\n",
        "encoded = tf.keras.layers.Conv2D(128, (3, 3), activation='relu', padding='same')(input_img)\n",
        "encoded = tf.keras.layers.MaxPooling2D((2, 2), padding='same')(encoded)\n",
        "encoded = tf.keras.layers.Conv2D(64, (3, 3), activation='relu', padding='same')(encoded)\n",
        "encoded = tf.keras.layers.MaxPooling2D((2, 2), padding='same')(encoded)\n",
        "\n",
        "decoded = tf.keras.layers.Conv2D(64, (3, 3), activation='relu', padding='same')(encoded)\n",
        "decoded = tf.keras.layers.UpSampling2D((2, 2))(decoded)\n",
        "decoded = tf.keras.layers.Conv2D(128, (3, 3), activation='relu', padding='same')(decoded)\n",
        "decoded = tf.keras.layers.UpSampling2D((2, 2))(decoded)\n",
        "decoded = tf.keras.layers.Conv2D(1, (3, 3), activation='sigmoid', padding='same')(decoded)\n",
        "\n",
        "autoencoder11 = tf.keras.models.Model(inputs = input_img, outputs = decoded)\n",
        "autoencoder11.compile(optimizer=tf.keras.optimizers.Adam(learning_rate = 1e-2),\n",
        "                      loss='mse',\n",
        "                      metrics = [RootMeanSquaredError()])\n"
      ]
    },
    {
      "cell_type": "code",
      "execution_count": null,
      "metadata": {
        "id": "vWCCbW8mgGjn"
      },
      "outputs": [],
      "source": [
        "autoencoder11.summary()\n",
        "\n",
        "history11 = autoencoder11.fit(X_train, y_train,\n",
        "                  epochs=100,\n",
        "                  batch_size=3,\n",
        "                  validation_data=(X_valid, y_valid))"
      ]
    },
    {
      "cell_type": "code",
      "execution_count": null,
      "metadata": {
        "id": "D6JvGDtWglLv"
      },
      "outputs": [],
      "source": [
        "\n",
        "predicted_label = np.squeeze(autoencoder11.predict(X_test))\n",
        "print_recontructed_text(X_test, predicted_label)"
      ]
    },
    {
      "cell_type": "markdown",
      "metadata": {
        "id": "wvedFlXTgwpz"
      },
      "source": [
        "# Complex CNN 1"
      ]
    },
    {
      "cell_type": "code",
      "execution_count": null,
      "metadata": {
        "id": "kmCxG5V1g7j7"
      },
      "outputs": [],
      "source": [
        "\n",
        "input_img = tf.keras.layers.Input(shape=(420, 540, 1)) # adapt this if using `channels_first` image data format\n",
        "encoded = tf.keras.layers.Conv2D(64, (3, 3), activation='relu', padding='same')(input_img)\n",
        "encoded = tf.keras.layers.BatchNormalization()(encoded)\n",
        "encoded = tf.keras.layers.MaxPooling2D((2, 2), padding='same')(encoded)\n",
        "encoded = tf.keras.layers.Conv2D(128, (3, 3), activation='relu', padding='same')(encoded)\n",
        "encoded = tf.keras.layers.BatchNormalization()(encoded)\n",
        "encoded = tf.keras.layers.MaxPooling2D((2, 2), padding='same')(encoded)\n",
        "\n",
        "decoded = tf.keras.layers.Conv2D(128, (3, 3), activation='relu', padding='same')(encoded)\n",
        "decoded = tf.keras.layers.BatchNormalization()(decoded)\n",
        "decoded = tf.keras.layers.UpSampling2D((2, 2))(decoded)\n",
        "decoded = tf.keras.layers.Conv2D(64, (3, 3), activation='relu', padding='same')(decoded)\n",
        "decoded = tf.keras.layers.BatchNormalization()(decoded)\n",
        "decoded = tf.keras.layers.UpSampling2D((2, 2))(decoded)\n",
        "decoded = tf.keras.layers.Conv2D(1, (3, 3), activation='sigmoid', padding='same')(decoded)\n",
        "\n",
        "autoencoder12 = tf.keras.models.Model(inputs = input_img, outputs = decoded)\n",
        "autoencoder12.compile(optimizer=tf.keras.optimizers.Adam(learning_rate = 1e-3),\n",
        "                    loss='mse',\n",
        "                    metrics=[RootMeanSquaredError()])\n"
      ]
    },
    {
      "cell_type": "code",
      "execution_count": null,
      "metadata": {
        "id": "l0R2kA0zhME9"
      },
      "outputs": [],
      "source": [
        "\n",
        "autoencoder12.summary()\n",
        "history12 = autoencoder12.fit(X_train, y_train, epochs=100, batch_size=5, validation_data=(X_valid, y_valid))"
      ]
    },
    {
      "cell_type": "code",
      "execution_count": null,
      "metadata": {
        "id": "Y5mBQQ2thQZf"
      },
      "outputs": [],
      "source": [
        "\n",
        "predicted_label = np.squeeze(autoencoder12.predict(X_test))\n",
        "print_recontructed_text(X_test, predicted_label)"
      ]
    },
    {
      "cell_type": "markdown",
      "metadata": {
        "id": "Dd7yM-Mxg1Bv"
      },
      "source": [
        "# Complex CNN 2"
      ]
    },
    {
      "cell_type": "code",
      "execution_count": null,
      "metadata": {
        "id": "YaBRX4RChR5p"
      },
      "outputs": [],
      "source": [
        "\n",
        "input_img = tf.keras.layers.Input(shape=(420, 540, 1)) # adapt this if using `channels_first` image data format\n",
        "encoded = tf.keras.layers.Conv2D(48, (3, 3), activation='relu', padding='same')(input_img)\n",
        "encoded = tf.keras.layers.Conv2D(72, (3, 3), activation='relu', padding='same')(encoded)\n",
        "encoded = tf.keras.layers.Conv2D(144, (3, 3), activation='relu', padding='same')(encoded)\n",
        "encoded = tf.keras.layers.BatchNormalization()(encoded)\n",
        "encoded = tf.keras.layers.MaxPooling2D((2, 2), padding='same')(encoded)\n",
        "\n",
        "encoded = tf.keras.layers.Dropout(0.5)(encoded)\n",
        "\n",
        "\n",
        "decoded = tf.keras.layers.Conv2D(144, (3, 3), activation='relu', padding='same')(encoded)\n",
        "decoded = tf.keras.layers.Conv2D(72, (3, 3), activation='relu', padding='same')(decoded)\n",
        "decoded = tf.keras.layers.Conv2D(48, (3, 3), activation='relu', padding='same')(decoded)\n",
        "decoded = tf.keras.layers.BatchNormalization()(decoded)\n",
        "decoded = tf.keras.layers.UpSampling2D((2, 2))(decoded)\n",
        "\n",
        "decoded = tf.keras.layers.Conv2D(1, (3, 3), activation='sigmoid', padding='same')(decoded)\n",
        "\n",
        "autoencoder13 = tf.keras.models.Model(inputs = input_img, outputs = decoded)\n",
        "autoencoder13.compile(optimizer=tf.keras.optimizers.Adam(learning_rate = 1e-3), loss='mse', metrics=[RootMeanSquaredError()])\n"
      ]
    },
    {
      "cell_type": "code",
      "execution_count": null,
      "metadata": {
        "id": "S0A3KE9chkZk"
      },
      "outputs": [],
      "source": [
        "autoencoder13.summary()"
      ]
    },
    {
      "cell_type": "code",
      "execution_count": null,
      "metadata": {
        "id": "CnW1Fd1uhnch"
      },
      "outputs": [],
      "source": [
        "history13 = autoencoder13.fit(X_train, y_train,\n",
        "                  epochs=100,\n",
        "                  batch_size=10,\n",
        "                  validation_data=(X_valid, y_valid),\n",
        "                  shuffle=True)"
      ]
    },
    {
      "cell_type": "code",
      "execution_count": null,
      "metadata": {
        "id": "EdWHjpeHhq_q"
      },
      "outputs": [],
      "source": [
        "\n",
        "predicted_label = np.squeeze(autoencoder13\n",
        "                             .predict(X_test))\n",
        "print_recontructed_text(X_test, predicted_label)"
      ]
    },
    {
      "cell_type": "code",
      "execution_count": null,
      "metadata": {
        "id": "lFcpvY2U6NVw"
      },
      "outputs": [],
      "source": []
    },
    {
      "cell_type": "markdown",
      "metadata": {
        "id": "XmwqdzRSg34I"
      },
      "source": [
        "# Summary of section 3"
      ]
    },
    {
      "cell_type": "markdown",
      "source": [
        "1. Model 10 = Dense 128, 64, 128, Adam, le-2, loss 0.17\n",
        "2. Model 11 = CNN 128, 64, Maxpool, Adam, loss 0.28\n",
        "3. Model 12 = CNN 64, 128, Maxpool, Batch norm, Adam, loss 0.04\n",
        "4. Model 13 = 48, 72, 144, Maxpool, batch norm, dropout, 0.02"
      ],
      "metadata": {
        "id": "DGg_J59RkBnY"
      }
    },
    {
      "cell_type": "markdown",
      "source": [
        "1. In case of text recontruction the dense models do not perform good as CNN's\n",
        "2.  In a dense model, each input feature is processed independently, without regard for its position in the sequence. This makes it difficult for the model to capture the complex relationships between different words or characters in the input sequence, which are crucial for generating accurate reconstructions.\n",
        "3. Basic CNN's  will require a large number of filters and layers to achieve good performance on text data, which can increase the risk of overfitting. To overcome that, in the complex CNN's I have used Maxpool layer.\n",
        "4. Also the best accuracy is when we add dropout layer to the CNN's"
      ],
      "metadata": {
        "id": "0Tsympx9k1Kz"
      }
    },
    {
      "cell_type": "code",
      "source": [
        "loss_plot(history10, \"Dense 128, 64, 128, Adam, le-2, loss 0.17\")\n",
        "loss_plot(history11, \"CNN 128, 64, Maxpool, Adam, loss 0.28\")\n",
        "loss_plot(history12, \"CNN 64, 128, Maxpool, Batch norm, Adam, loss 0.04\")\n",
        "loss_plot(history13, \"48, 72, 144, Maxpool, batch norm, dropout, 0.02\")\n"
      ],
      "metadata": {
        "id": "vq5ae-jLbjcq"
      },
      "execution_count": null,
      "outputs": []
    }
  ],
  "metadata": {
    "accelerator": "GPU",
    "colab": {
      "toc_visible": true,
      "provenance": []
    },
    "gpuClass": "standard",
    "kernelspec": {
      "display_name": "Python 3",
      "name": "python3"
    },
    "language_info": {
      "name": "python"
    }
  },
  "nbformat": 4,
  "nbformat_minor": 0
}