{
  "nbformat": 4,
  "nbformat_minor": 0,
  "metadata": {
    "colab": {
      "provenance": []
    },
    "kernelspec": {
      "name": "python3",
      "display_name": "Python 3"
    },
    "accelerator": "GPU"
  },
  "cells": [
    {
      "cell_type": "markdown",
      "source": [],
      "metadata": {
        "id": "FDCxcyhdGwWn"
      }
    },
    {
      "cell_type": "markdown",
      "metadata": {
        "id": "XLMRPLVCFwEc"
      },
      "source": [
        "## Learning CNNs using Fashion-MNIST\n",
        "\n",
        "This will bulld CNNS using the Fashion-MINST dataset. In particular, we will\n",
        "*   Use MNIST Fashion to study CNN architectures and parameters.\n",
        "\n",
        "Read more about the Fashion-MINST dataset in this paper [here](https://arxiv.org/abs/1708.07747) (**Fashion-MNIST: a Novel Image Dataset for Benchmarking Machine Learning Algorithms**)\n",
        "\n"
      ]
    },
    {
      "cell_type": "markdown",
      "metadata": {
        "id": "Ixyte299ZZgk"
      },
      "source": [
        "## Overview\n",
        "\n",
        "\n",
        "This focuses on how to classify **fashion_mnist** data with a simple **Convolutional Neural Network** in Keras.\n",
        "Keras is part of the core TensorFlow library, in addition to being an independent open source project.\n",
        "\n",
        "The [fashion_mnist](https://github.com/zalandoresearch/fashion-mnist) dataset consists of\n",
        "60,000 train and 10,000 test instances. The aim is to classify an image into one of 10 categories. The possible categories/labals are:\n",
        "\n",
        "<br> **Label**\t**Description**\n",
        "<br> 0 T-shirt/top\n",
        "<br> 1 Trouser\n",
        "<br> 2 Pullover\n",
        "<br> 3 Dress\n",
        "<br> 4 Coat\n",
        "<br> 5 Sandal\n",
        "<br> 6 Shirt\n",
        "<br> 7 Sneaker\n",
        "<br> 8 Bag\n",
        "<br> 9 Ankle boot\n",
        "\n",
        "Each gray-scale input is a 28x28 low-resolution image."
      ]
    },
    {
      "cell_type": "markdown",
      "metadata": {
        "id": "1jQGPl2l7kF7",
        "colab_type": "toc"
      },
      "source": [
        ">>[Learning CNNs using Fashion-MNIST](#scrollTo=XLMRPLVCFwEc)\n",
        "\n",
        ">>[Notebook Overview](#scrollTo=Ixyte299ZZgk)\n",
        "\n",
        ">>[Download the fashion_mnist data](#scrollTo=LbCigZtNZZgl)\n",
        "\n",
        ">>[Visualize the data](#scrollTo=tWORMSC8FDR4)\n",
        "\n",
        ">>[Data normalization](#scrollTo=Zx-Ee6LHZZgt)\n",
        "\n",
        ">>[Split the data into train/validation/test data sets](#scrollTo=CFlNHktHBtru)\n",
        "\n",
        ">>[Create the basic model architecture](#scrollTo=HhalcO03ZZg3)\n",
        "\n",
        ">>[Compile the model](#scrollTo=FhxJ5dinZZg8)\n",
        "\n",
        ">>[Train the model](#scrollTo=DtOvh3YVZZg_)\n",
        "\n",
        ">>[Load Model with the best validation accuracy](#scrollTo=e-MGLwZQy05d)\n",
        "\n",
        ">>[Test Accuracy](#scrollTo=9RTRkan4yq5H)\n",
        "\n",
        ">>[Visualize prediction](#scrollTo=oJv7XEk10bOv)\n",
        "\n",
        ">>[Congragulations!](#scrollTo=8AehWdRAVKN5)\n",
        "\n"
      ]
    },
    {
      "cell_type": "markdown",
      "metadata": {
        "id": "LbCigZtNZZgl"
      },
      "source": [
        "## Download the fashion_mnist data\n",
        "First let's install TensorFlow version 1.8.0 and import Tensorflow. Then we download fashion-mnist which is one of the Keras datasets."
      ]
    },
    {
      "cell_type": "code",
      "metadata": {
        "id": "d44TznbgZZgm",
        "colab": {
          "base_uri": "https://localhost:8080/"
        },
        "outputId": "cced8993-826d-4190-d7fe-f6fee149f1ed"
      },
      "source": [
        "!pip install -q -U tensorflow>=1.8.0\n",
        "import tensorflow as tf\n",
        "\n",
        "import numpy as np\n",
        "import matplotlib.pyplot as plt\n",
        "\n",
        "# Load the fashion-mnist pre-shuffled train data and test data\n",
        "(x_train, y_train), (x_test, y_test) = tf.keras.datasets.fashion_mnist.load_data()\n",
        "\n",
        "print(\"x_train shape:\", x_train.shape, \"y_train shape:\", y_train.shape)"
      ],
      "execution_count": null,
      "outputs": [
        {
          "output_type": "stream",
          "name": "stdout",
          "text": [
            "x_train shape: (60000, 28, 28) y_train shape: (60000,)\n"
          ]
        }
      ]
    },
    {
      "cell_type": "code",
      "source": [
        "tf.__version__"
      ],
      "metadata": {
        "id": "gt2Ic0NF_L4W",
        "outputId": "9f0710a1-36a8-4f5a-b47a-48fbf7bee41b",
        "colab": {
          "base_uri": "https://localhost:8080/",
          "height": 35
        }
      },
      "execution_count": null,
      "outputs": [
        {
          "output_type": "execute_result",
          "data": {
            "text/plain": [
              "'2.11.0'"
            ],
            "application/vnd.google.colaboratory.intrinsic+json": {
              "type": "string"
            }
          },
          "metadata": {},
          "execution_count": 2
        }
      ]
    },
    {
      "cell_type": "markdown",
      "metadata": {
        "id": "tWORMSC8FDR4"
      },
      "source": [
        "## Visualize the data"
      ]
    },
    {
      "cell_type": "code",
      "metadata": {
        "id": "aFe4wHGRFKle",
        "colab": {
          "base_uri": "https://localhost:8080/",
          "height": 354
        },
        "outputId": "ed0c35cd-4547-451e-a545-a800da2aedce"
      },
      "source": [
        "# Print training set shape - note there are 60,000 training data of image size of 28x28, 60,000 train labels)\n",
        "print(\"x_train shape:\", x_train.shape, \"y_train shape:\", y_train.shape)\n",
        "\n",
        "# Print the number of training and test datasets\n",
        "print(x_train.shape[0], 'train set')\n",
        "print(x_test.shape[0], 'test set')\n",
        "\n",
        "# Define the text labels\n",
        "fashion_mnist_labels = [\"T-shirt/top\",  # index 0\n",
        "                        \"Trouser\",      # index 1\n",
        "                        \"Pullover\",     # index 2\n",
        "                        \"Dress\",        # index 3\n",
        "                        \"Coat\",         # index 4\n",
        "                        \"Sandal\",       # index 5\n",
        "                        \"Shirt\",        # index 6\n",
        "                        \"Sneaker\",      # index 7\n",
        "                        \"Bag\",          # index 8\n",
        "                        \"Ankle boot\"]   # index 9\n",
        "\n",
        "# Image index, you can pick any number between 0 and 59,999\n",
        "img_index = 5\n",
        "# y_train contains the lables, ranging from 0 to 9\n",
        "label_index = y_train[img_index]\n",
        "# Print the label, for example 2 Pullover\n",
        "print (\"y = \" + str(label_index) + \" \" +(fashion_mnist_labels[label_index]))\n",
        "# # Show one of the images from the training dataset\n",
        "plt.imshow(x_train[img_index])"
      ],
      "execution_count": null,
      "outputs": [
        {
          "output_type": "stream",
          "name": "stdout",
          "text": [
            "x_train shape: (60000, 28, 28) y_train shape: (60000,)\n",
            "60000 train set\n",
            "10000 test set\n",
            "y = 2 Pullover\n"
          ]
        },
        {
          "output_type": "execute_result",
          "data": {
            "text/plain": [
              "<matplotlib.image.AxesImage at 0x7fc902eae0a0>"
            ]
          },
          "metadata": {},
          "execution_count": 3
        },
        {
          "output_type": "display_data",
          "data": {
            "text/plain": [
              "<Figure size 432x288 with 1 Axes>"
            ],
            "image/png": "[encoded data removed]"
          },
          "metadata": {
            "needs_background": "light"
          }
        }
      ]
    },
    {
      "cell_type": "markdown",
      "metadata": {
        "id": "Zx-Ee6LHZZgt"
      },
      "source": [
        "## Data normalization\n",
        "Normalize the data dimensions so that they are of approximately the same scale."
      ]
    },
    {
      "cell_type": "code",
      "metadata": {
        "id": "XNh5NIckZZgu"
      },
      "source": [
        "x_train = x_train.astype('float32') / 255\n",
        "x_test = x_test.astype('float32') / 255"
      ],
      "execution_count": null,
      "outputs": []
    },
    {
      "cell_type": "code",
      "metadata": {
        "id": "LMSg53fiZZgx",
        "colab": {
          "base_uri": "https://localhost:8080/"
        },
        "outputId": "12c6018d-3971-4f3b-ca50-e43af03b2be4"
      },
      "source": [
        "print(\"Number of train data - \" + str(len(x_train)))\n",
        "print(\"Number of test data - \" + str(len(x_test)))"
      ],
      "execution_count": null,
      "outputs": [
        {
          "output_type": "stream",
          "name": "stdout",
          "text": [
            "Number of train data - 60000\n",
            "Number of test data - 10000\n"
          ]
        }
      ]
    },
    {
      "cell_type": "markdown",
      "metadata": {
        "id": "CFlNHktHBtru"
      },
      "source": [
        "## Split the data into train/validation/test data sets\n",
        "\n",
        "\n",
        "*   Training data - used for training the model\n",
        "*   Validation data - used for tuning the hyperparameters and evaluate the models\n",
        "*   Test data - used to test the model after the model has gone through initial vetting by the validation set.\n",
        "\n"
      ]
    },
    {
      "cell_type": "code",
      "metadata": {
        "id": "1ShU787gZZg0",
        "colab": {
          "base_uri": "https://localhost:8080/"
        },
        "outputId": "591dfd92-6291-44cd-d3ad-b11b19a92b6d"
      },
      "source": [
        "# Further break training data into train / validation sets (# put 5000 into validation set and keep remaining 55,000 for train)\n",
        "(x_train, x_valid) = x_train[5000:], x_train[:5000]\n",
        "(y_train, y_valid) = y_train[5000:], y_train[:5000]\n",
        "\n",
        "# Reshape input data from (28, 28) to (28, 28, 1)\n",
        "w, h = 28, 28\n",
        "x_train = x_train.reshape(x_train.shape[0], w, h, 1)\n",
        "x_valid = x_valid.reshape(x_valid.shape[0], w, h, 1)\n",
        "x_test = x_test.reshape(x_test.shape[0], w, h, 1)\n",
        "\n",
        "# One-hot encode the labels\n",
        "y_train = tf.keras.utils.to_categorical(y_train, 10)\n",
        "y_valid = tf.keras.utils.to_categorical(y_valid, 10)\n",
        "y_test = tf.keras.utils.to_categorical(y_test, 10)\n",
        "\n",
        "# Print training set shape\n",
        "print(\"x_train shape:\", x_train.shape, \"y_train shape:\", y_train.shape)\n",
        "\n",
        "# Print the number of training, validation, and test datasets\n",
        "print(x_train.shape[0], 'train set')\n",
        "print(x_valid.shape[0], 'validation set')\n",
        "print(x_test.shape[0], 'test set')"
      ],
      "execution_count": null,
      "outputs": [
        {
          "output_type": "stream",
          "name": "stdout",
          "text": [
            "x_train shape: (55000, 28, 28, 1) y_train shape: (55000, 10)\n",
            "55000 train set\n",
            "5000 validation set\n",
            "10000 test set\n"
          ]
        }
      ]
    },
    {
      "cell_type": "markdown",
      "metadata": {
        "id": "HhalcO03ZZg3"
      },
      "source": [
        "## Create the basic model architecture\n",
        "\n",
        "There are two APIs for defining a model in Keras:\n",
        "1. [Sequential model API](https://keras.io/models/sequential/)\n",
        "2. [Functional API](https://keras.io/models/model/)\n",
        "\n",
        "In this workflow we are using the Sequential model API.\n",
        "\n",
        "\n",
        "In defining the model we will be using some of these Keras APIs:\n",
        "*   Conv2D() [link text](https://www.tensorflow.org/api_docs/python/tf/keras/layers/Conv2D/) - create a convolutional layer\n",
        "*   Pooling() [link text](https://keras.io/layers/pooling/) - create a pooling layer\n",
        "*   Dropout() [link text](https://www.tensorflow.org/api_docs/python/tf/keras/layers/Dropout) - apply drop out\n",
        "\n",
        "In the basic architecture we create two convolutional layers, and then an inference layer.\n",
        "\n",
        "The key parameters for a convolution layer are:\n",
        "for convolution--(a) number of convolution filters; (b) kernel size;\n",
        "for pooling--kernel for pooling-size;\n",
        "for dropout--dropout probability. We will refer to these as the convolution-layer parameters.\n",
        "\n",
        "The inference-layer parameters are:\n",
        "(a) hidden layer vector-size and activation;\n",
        "(b) dropout probability;\n",
        "(c) output-layer activation.\n",
        "\n",
        "When we design a network we can specify the CNN model using these parameters."
      ]
    },
    {
      "cell_type": "code",
      "metadata": {
        "id": "QgTZ47SsZZg4",
        "colab": {
          "base_uri": "https://localhost:8080/"
        },
        "outputId": "4aade4f1-818c-4ea8-e60a-cd0af39fa0fa"
      },
      "source": [
        "model = tf.keras.Sequential()\n",
        "\n",
        "# Must define the input shape in the first layer of the neural network\n",
        "model.add(tf.keras.layers.Conv2D(filters=64, kernel_size=2, padding='same', activation='relu', input_shape=(28,28,1)))\n",
        "model.add(tf.keras.layers.MaxPooling2D(pool_size=2))\n",
        "model.add(tf.keras.layers.Dropout(0.3))\n",
        "\n",
        "model.add(tf.keras.layers.Conv2D(filters=32, kernel_size=2, padding='same', activation='relu'))\n",
        "model.add(tf.keras.layers.MaxPooling2D(pool_size=2))\n",
        "model.add(tf.keras.layers.Dropout(0.3))\n",
        "\n",
        "model.add(tf.keras.layers.Flatten())\n",
        "model.add(tf.keras.layers.Dense(256, activation='relu'))\n",
        "model.add(tf.keras.layers.Dropout(0.5))\n",
        "model.add(tf.keras.layers.Dense(10, activation='softmax'))\n",
        "\n",
        "# Take a look at the model summary\n",
        "model.summary()"
      ],
      "execution_count": null,
      "outputs": [
        {
          "output_type": "stream",
          "name": "stdout",
          "text": [
            "Model: \"sequential\"\n",
            "_________________________________________________________________\n",
            " Layer (type)                Output Shape              Param #   \n",
            "=================================================================\n",
            " conv2d (Conv2D)             (None, 28, 28, 64)        320       \n",
            "                                                                 \n",
            " max_pooling2d (MaxPooling2D  (None, 14, 14, 64)       0         \n",
            " )                                                               \n",
            "                                                                 \n",
            " dropout (Dropout)           (None, 14, 14, 64)        0         \n",
            "                                                                 \n",
            " conv2d_1 (Conv2D)           (None, 14, 14, 32)        8224      \n",
            "                                                                 \n",
            " max_pooling2d_1 (MaxPooling  (None, 7, 7, 32)         0         \n",
            " 2D)                                                             \n",
            "                                                                 \n",
            " dropout_1 (Dropout)         (None, 7, 7, 32)          0         \n",
            "                                                                 \n",
            " flatten (Flatten)           (None, 1568)              0         \n",
            "                                                                 \n",
            " dense (Dense)               (None, 256)               401664    \n",
            "                                                                 \n",
            " dropout_2 (Dropout)         (None, 256)               0         \n",
            "                                                                 \n",
            " dense_1 (Dense)             (None, 10)                2570      \n",
            "                                                                 \n",
            "=================================================================\n",
            "Total params: 412,778\n",
            "Trainable params: 412,778\n",
            "Non-trainable params: 0\n",
            "_________________________________________________________________\n"
          ]
        }
      ]
    },
    {
      "cell_type": "markdown",
      "metadata": {
        "id": "FhxJ5dinZZg8"
      },
      "source": [
        "## Compile the model\n",
        "Configure the learning process with compile() API before training the model. It receives three arguments:\n",
        "\n",
        "*   An optimizer\n",
        "*   A loss function\n",
        "*   A list of metrics\n"
      ]
    },
    {
      "cell_type": "code",
      "metadata": {
        "id": "CQUlOa8cZZg9"
      },
      "source": [
        "model.compile(loss='categorical_crossentropy',\n",
        "             optimizer='adam',\n",
        "             metrics=['accuracy'])"
      ],
      "execution_count": null,
      "outputs": []
    },
    {
      "cell_type": "markdown",
      "metadata": {
        "id": "DtOvh3YVZZg_"
      },
      "source": [
        "## Train the model\n",
        "\n",
        "Now let's train the model with fit() API.\n",
        "\n",
        "We use  the [ModelCheckpoint](https://keras.io/callbacks/#modelcheckpoint) API to save the model after every epoch. Set \"save_best_only = True\" to save only when the validation accuracy improves.\n"
      ]
    },
    {
      "cell_type": "code",
      "metadata": {
        "id": "ZTmapAttZZhA",
        "colab": {
          "base_uri": "https://localhost:8080/"
        },
        "outputId": "f91d0373-f3d9-42e5-9701-c4e203e29a14"
      },
      "source": [
        "from keras.callbacks import ModelCheckpoint\n",
        "\n",
        "checkpointer = ModelCheckpoint(filepath='base_model_weights.hdf5', verbose = 1, save_best_only=True)\n",
        "model.fit(x_train,\n",
        "         y_train,\n",
        "         batch_size=64,\n",
        "         epochs=10,\n",
        "         validation_data=(x_valid, y_valid),\n",
        "         callbacks=[checkpointer])"
      ],
      "execution_count": null,
      "outputs": [
        {
          "output_type": "stream",
          "name": "stdout",
          "text": [
            "Epoch 1/10\n",
            "860/860 [==============================] - ETA: 0s - loss: 0.6082 - accuracy: 0.7782\n",
            "Epoch 1: val_loss improved from inf to 0.38288, saving model to base_model_weights.hdf5\n",
            "860/860 [==============================] - 14s 10ms/step - loss: 0.6082 - accuracy: 0.7782 - val_loss: 0.3829 - val_accuracy: 0.8626\n",
            "Epoch 2/10\n",
            "856/860 [============================>.] - ETA: 0s - loss: 0.4127 - accuracy: 0.8503\n",
            "Epoch 2: val_loss improved from 0.38288 to 0.31757, saving model to base_model_weights.hdf5\n",
            "860/860 [==============================] - 8s 9ms/step - loss: 0.4129 - accuracy: 0.8502 - val_loss: 0.3176 - val_accuracy: 0.8890\n",
            "Epoch 3/10\n",
            "859/860 [============================>.] - ETA: 0s - loss: 0.3667 - accuracy: 0.8656\n",
            "Epoch 3: val_loss improved from 0.31757 to 0.29335, saving model to base_model_weights.hdf5\n",
            "860/860 [==============================] - 4s 5ms/step - loss: 0.3667 - accuracy: 0.8656 - val_loss: 0.2934 - val_accuracy: 0.8936\n",
            "Epoch 4/10\n",
            "853/860 [============================>.] - ETA: 0s - loss: 0.3404 - accuracy: 0.8745\n",
            "Epoch 4: val_loss improved from 0.29335 to 0.28121, saving model to base_model_weights.hdf5\n",
            "860/860 [==============================] - 5s 6ms/step - loss: 0.3405 - accuracy: 0.8744 - val_loss: 0.2812 - val_accuracy: 0.8966\n",
            "Epoch 5/10\n",
            "851/860 [============================>.] - ETA: 0s - loss: 0.3227 - accuracy: 0.8822\n",
            "Epoch 5: val_loss improved from 0.28121 to 0.26747, saving model to base_model_weights.hdf5\n",
            "860/860 [==============================] - 5s 5ms/step - loss: 0.3222 - accuracy: 0.8824 - val_loss: 0.2675 - val_accuracy: 0.9010\n",
            "Epoch 6/10\n",
            "853/860 [============================>.] - ETA: 0s - loss: 0.3067 - accuracy: 0.8885\n",
            "Epoch 6: val_loss improved from 0.26747 to 0.24882, saving model to base_model_weights.hdf5\n",
            "860/860 [==============================] - 5s 6ms/step - loss: 0.3068 - accuracy: 0.8885 - val_loss: 0.2488 - val_accuracy: 0.9076\n",
            "Epoch 7/10\n",
            "852/860 [============================>.] - ETA: 0s - loss: 0.2979 - accuracy: 0.8914\n",
            "Epoch 7: val_loss improved from 0.24882 to 0.23952, saving model to base_model_weights.hdf5\n",
            "860/860 [==============================] - 5s 6ms/step - loss: 0.2977 - accuracy: 0.8915 - val_loss: 0.2395 - val_accuracy: 0.9156\n",
            "Epoch 8/10\n",
            "860/860 [==============================] - ETA: 0s - loss: 0.2856 - accuracy: 0.8950\n",
            "Epoch 8: val_loss improved from 0.23952 to 0.23361, saving model to base_model_weights.hdf5\n",
            "860/860 [==============================] - 4s 5ms/step - loss: 0.2856 - accuracy: 0.8950 - val_loss: 0.2336 - val_accuracy: 0.9140\n",
            "Epoch 9/10\n",
            "855/860 [============================>.] - ETA: 0s - loss: 0.2759 - accuracy: 0.8984\n",
            "Epoch 9: val_loss improved from 0.23361 to 0.22665, saving model to base_model_weights.hdf5\n",
            "860/860 [==============================] - 5s 6ms/step - loss: 0.2760 - accuracy: 0.8984 - val_loss: 0.2267 - val_accuracy: 0.9146\n",
            "Epoch 10/10\n",
            "855/860 [============================>.] - ETA: 0s - loss: 0.2659 - accuracy: 0.9017\n",
            "Epoch 10: val_loss did not improve from 0.22665\n",
            "860/860 [==============================] - 4s 5ms/step - loss: 0.2656 - accuracy: 0.9018 - val_loss: 0.2277 - val_accuracy: 0.9144\n"
          ]
        },
        {
          "output_type": "execute_result",
          "data": {
            "text/plain": [
              "<keras.callbacks.History at 0x7fc8f115de80>"
            ]
          },
          "metadata": {},
          "execution_count": 9
        }
      ]
    },
    {
      "cell_type": "markdown",
      "metadata": {
        "id": "e-MGLwZQy05d"
      },
      "source": [
        "## Load Model with the best validation accuracy"
      ]
    },
    {
      "cell_type": "code",
      "metadata": {
        "id": "UD1tecxUZZhE"
      },
      "source": [
        "# Load the weights with the best validation accuracy\n",
        "model.load_weights('base_model_weights.hdf5')"
      ],
      "execution_count": null,
      "outputs": []
    },
    {
      "cell_type": "markdown",
      "metadata": {
        "id": "9RTRkan4yq5H"
      },
      "source": [
        "## Test Accuracy"
      ]
    },
    {
      "cell_type": "code",
      "metadata": {
        "id": "VZtqBqFFy62R",
        "colab": {
          "base_uri": "https://localhost:8080/"
        },
        "outputId": "3a891bc6-bcb0-4276-af36-429aacd87b11"
      },
      "source": [
        "# Evaluate the model on test set\n",
        "score = model.evaluate(x_test, y_test, verbose=0)\n",
        "\n",
        "accuracy = {}\n",
        "# Print test accuracy\n",
        "print('\\n', 'Test accuracy:', score[1])\n",
        "accuracy[\"Base Model\"] = score[1]"
      ],
      "execution_count": null,
      "outputs": [
        {
          "output_type": "stream",
          "name": "stdout",
          "text": [
            "\n",
            " Test accuracy: 0.9089000225067139\n"
          ]
        }
      ]
    },
    {
      "cell_type": "markdown",
      "metadata": {
        "id": "oJv7XEk10bOv"
      },
      "source": [
        "## Visualize prediction\n",
        "Now let's visualize the prediction using the model you just trained.\n",
        "First we get the predictions with the model from the test data.\n",
        "Then we print out 15 images from the test data set, and set the titles with the prediction (and the groud truth label).\n",
        "If the prediction matches the true label, the title will be green; otherwise it's displayed in red."
      ]
    },
    {
      "cell_type": "code",
      "metadata": {
        "id": "QwNmlfIC0YxM",
        "colab": {
          "base_uri": "https://localhost:8080/",
          "height": 503
        },
        "outputId": "31aa9501-9921-43de-bd9a-d4d693660d97"
      },
      "source": [
        "y_hat = model.predict(x_test)\n",
        "\n",
        "# Plot a random sample of 10 test images, their predicted labels and ground truth\n",
        "figure = plt.figure(figsize=(20, 8))\n",
        "for i, index in enumerate(np.random.choice(x_test.shape[0], size=15, replace=False)):\n",
        "    ax = figure.add_subplot(3, 5, i + 1, xticks=[], yticks=[])\n",
        "    # Display each image\n",
        "    ax.imshow(np.squeeze(x_test[index]))\n",
        "    predict_index = np.argmax(y_hat[index])\n",
        "    true_index = np.argmax(y_test[index])\n",
        "    # Set the title for each image\n",
        "    ax.set_title(\"{} ({})\".format(fashion_mnist_labels[predict_index],\n",
        "                                  fashion_mnist_labels[true_index]),\n",
        "                                  color=(\"green\" if predict_index == true_index else \"red\"))"
      ],
      "execution_count": null,
      "outputs": [
        {
          "output_type": "stream",
          "name": "stdout",
          "text": [
            "313/313 [==============================] - 1s 2ms/step\n"
          ]
        },
        {
          "output_type": "display_data",
          "data": {
            "text/plain": [
              "<Figure size 1440x576 with 15 Axes>"
            ],
            "image/png": "[encoded data removed]"
          },
          "metadata": {}
        }
      ]
    },
    {
      "cell_type": "markdown",
      "metadata": {
        "id": "8AehWdRAVKN5"
      },
      "source": [
        "## Task 1: Architecture Comparison\n",
        "The code given above is called the baseline architecture, and will successfully train a CNN to classify fashion-MNIST with near 90% accuracy.\n",
        "We now want to compare other different architectures.\n",
        "\n",
        "The results will be reported in a table with the first column describing the architecture and the second column the predictive accuracy of the model on the data.\n",
        "\n",
        "I will discuss on how the changes to architecture influence the change in accuracy, if there is any significant change.\n",
        "* impact of number of filters\n",
        "* impact of kernel size\n",
        "* impact of dropout probability\n",
        "* impact of number of layers\n",
        "* impact of combining multiple changes.\n",
        "\n",
        "\n",
        "\n",
        "\n"
      ]
    },
    {
      "cell_type": "code",
      "source": [
        "from collections import OrderedDict\n",
        "model_settings = OrderedDict({\n",
        "    \"models\": {\n",
        "        'base_model_reduced_filters_3_6': [\n",
        "            [\"Conv2D\", 3, 2, 'same', 'relu', (28, 28, 1)],\n",
        "            [\"MaxPooling2D\", 2],\n",
        "            [\"Dropout\", 0.3],\n",
        "            [\"Conv2D\", 6, 2, 'same', 'relu'],\n",
        "            [\"MaxPooling2D\", 2],\n",
        "            [\"Dropout\", 0.3],\n",
        "            [\"Flatten\"],\n",
        "            [\"Dense\", 256, 'relu'],\n",
        "            [\"Dropout\", 0.5]\n",
        "        ],\n",
        "        'base_model_increased_filter_128_256': [\n",
        "            [\"Conv2D\", 128, 2, 'same', 'relu', (28, 28, 1)],\n",
        "            [\"MaxPooling2D\", 2],\n",
        "            [\"Dropout\", 0.3],\n",
        "            [\"Conv2D\", 256, 2, 'same', 'relu'],\n",
        "            [\"MaxPooling2D\", 2],\n",
        "            [\"Dropout\", 0.3],\n",
        "            [\"Flatten\"],\n",
        "            [\"Dense\", 256, 'relu'],\n",
        "            [\"Dropout\", 0.5]\n",
        "        ],\n",
        "        'base_model_decreased_kernel_1': [\n",
        "            [\"Conv2D\", 64, 1, 'same', 'relu', (28, 28, 1)],\n",
        "            [\"MaxPooling2D\", 2],\n",
        "            [\"Dropout\", 0.3],\n",
        "            [\"Conv2D\", 32, 1, 'same', 'relu'],\n",
        "            [\"MaxPooling2D\", 2],\n",
        "            [\"Dropout\", 0.3],\n",
        "            [\"Flatten\"],\n",
        "            [\"Dense\", 256, 'relu'],\n",
        "            [\"Dropout\", 0.5]\n",
        "        ],\n",
        "        'base_model_increased_pooling_4': [\n",
        "            [\"Conv2D\", 64, 2, 'same', 'relu', (28, 28, 1)],\n",
        "            [\"MaxPooling2D\", 4],\n",
        "            [\"Dropout\", 0.3],\n",
        "            [\"Conv2D\", 32, 2, 'same', 'relu'],\n",
        "            [\"MaxPooling2D\", 4],\n",
        "            [\"Dropout\", 0.3],\n",
        "            [\"Flatten\"],\n",
        "            [\"Dense\", 256, 'relu'],\n",
        "            [\"Dropout\", 0.5]\n",
        "        ],\n",
        "        'base_model_increased_dropout_50_50': [\n",
        "            [\"Conv2D\", 64, 1, 'same', 'relu', (28, 28, 1)],\n",
        "            [\"MaxPooling2D\", 2],\n",
        "            [\"Dropout\", 0.5],\n",
        "            [\"Conv2D\", 32, 1, 'same', 'relu'],\n",
        "            [\"MaxPooling2D\", 2],\n",
        "            [\"Dropout\", 0.5],\n",
        "            [\"Flatten\"],\n",
        "            [\"Dense\", 256, 'relu'],\n",
        "            [\"Dropout\", 0.5]\n",
        "        ],\n",
        "        'base_model_decresed_dropout_10_20': [\n",
        "            [\"Conv2D\", 64, 2, 'same', 'relu', (28, 28, 1)],\n",
        "            [\"MaxPooling2D\", 2],\n",
        "            [\"Dropout\", 0.1],\n",
        "            [\"Conv2D\", 32, 2, 'same', 'relu'],\n",
        "            [\"MaxPooling2D\", 2],\n",
        "            [\"Dropout\", 0.2],\n",
        "            [\"Flatten\"],\n",
        "            [\"Dense\", 256, 'relu'],\n",
        "            [\"Dropout\", 0.5]\n",
        "        ],\n",
        "         'base_model_add_conv_layer': [\n",
        "            [\"Conv2D\", 128, 2, 'same', 'relu', (28, 28, 1)],\n",
        "            [\"Conv2D\", 64, 2, 'same', 'relu'],\n",
        "            [\"MaxPooling2D\", 2],\n",
        "            [\"Dropout\", 0.3],\n",
        "            [\"Conv2D\", 32, 2, 'same', 'relu'],\n",
        "            [\"MaxPooling2D\", 2],\n",
        "            [\"Dropout\", 0.3],\n",
        "            [\"Flatten\"],\n",
        "            [\"Dense\", 256, 'relu'],\n",
        "            [\"Dropout\", 0.5]\n",
        "        ],\n",
        "        'model_with_new_architecture_vgg_net': [\n",
        "            [\"Conv2D\", 64, 2, 'same', 'relu', (28, 28, 1)],\n",
        "            [\"Conv2D\", 64, 2, 'same', 'relu'],\n",
        "            [\"MaxPooling2D\", 2],\n",
        "\n",
        "            [\"Conv2D\", 128, 2, 'same', 'relu'],\n",
        "            [\"Conv2D\", 128, 2, 'same', 'relu'],\n",
        "            [\"Conv2D\", 128, 2, 'same', 'relu'],\n",
        "            [\"MaxPooling2D\", 2],\n",
        "\n",
        "            [\"Flatten\"],\n",
        "            [\"Dense\", 256, 'relu'],\n",
        "            [\"Dropout\", 0.2],\n",
        "            [\"Dense\", 256, 'relu'],\n",
        "            [\"Dropout\", 0.2],\n",
        "            [\"Dense\", 256, 'relu'],\n",
        "            [\"Dropout\", 0.2]\n",
        "\n",
        "        ],\n",
        "          'model_with_new_architecture_2': [\n",
        "            [\"Conv2D\", 32, 3, 'same', 'relu', (28, 28, 1)],\n",
        "            [\"MaxPooling2D\", 2],\n",
        "\n",
        "            [\"Conv2D\", 64, 3, 'same', 'relu'],\n",
        "            [\"MaxPooling2D\", 2],\n",
        "\n",
        "            [\"Conv2D\", 128, 3, 'same', 'relu'],\n",
        "            [\"MaxPooling2D\", 2],\n",
        "\n",
        "            [\"Flatten\"],\n",
        "            [\"Dense\", 256, 'relu'],\n",
        "            [\"Dropout\", 0.5]\n",
        "        ],\n",
        "          'model_with_new_architecture_3': [\n",
        "            [\"Conv2D\", 32, 3, 'same', 'relu', (28, 28, 1)],\n",
        "            [\"Conv2D\", 32, 3, 'same', 'relu'],\n",
        "            [\"MaxPooling2D\", 2],\n",
        "            [\"Dropout\", 0.25],\n",
        "\n",
        "            [\"Conv2D\", 64, 3, 'same', 'relu'],\n",
        "            [\"Conv2D\", 64, 3, 'same', 'relu'],\n",
        "            [\"MaxPooling2D\", 2],\n",
        "            [\"Dropout\", 0.25],\n",
        "\n",
        "            [\"Conv2D\", 128, 3, 'same', 'relu'],\n",
        "            [\"Conv2D\", 128, 3, 'same', 'relu'],\n",
        "            [\"MaxPooling2D\", 2],\n",
        "            [\"Dropout\", 0.25],\n",
        "\n",
        "            [\"Flatten\"],\n",
        "            [\"Dense\", 512, 'relu'],\n",
        "            [\"Dropout\", 0.5],\n",
        "        ]\n",
        "\n",
        "    }\n",
        "})\n",
        "\n"
      ],
      "metadata": {
        "id": "7M_D-ThpWoRN"
      },
      "execution_count": null,
      "outputs": []
    },
    {
      "cell_type": "code",
      "source": [
        "\n",
        "for key, value in model_settings[\"models\"].items():\n",
        "    model = tf.keras.Sequential()\n",
        "    for params in value:\n",
        "        if params[0] == \"Conv2D\":\n",
        "            if len(params) > 5:\n",
        "                model.add(tf.keras.layers.Conv2D(filters=params[1], kernel_size=params[2], padding=params[3], activation=params[4], input_shape=params[5]))\n",
        "            else:\n",
        "                model.add(tf.keras.layers.Conv2D(filters=params[1], kernel_size=params[2], padding=params[3], activation=params[4]))\n",
        "        elif params[0] == \"MaxPooling2D\":\n",
        "            model.add(tf.keras.layers.MaxPooling2D(pool_size=params[1]))\n",
        "        elif params[0] == \"Dropout\":\n",
        "            model.add(tf.keras.layers.Dropout(params[1]))\n",
        "        elif params[0] == \"Flatten\":\n",
        "            model.add(tf.keras.layers.Flatten())\n",
        "        elif params[0] == \"Dense\":\n",
        "            model.add(tf.keras.layers.Dense(params[1], activation=params[2]))\n",
        "    model.add(tf.keras.layers.Dense(10, activation='softmax'))\n",
        "    model.build((28, 28, 1))\n",
        "    # print(model.summary())\n",
        "\n",
        "    model.compile(loss='categorical_crossentropy',\n",
        "             optimizer='adam',\n",
        "             metrics=['accuracy'])\n",
        "\n",
        "    checkpointer = ModelCheckpoint(filepath=key+'.hdf5', verbose = 1, save_best_only=True)\n",
        "\n",
        "    model.fit(x_train,\n",
        "         y_train,\n",
        "         batch_size=64,\n",
        "         epochs=10,\n",
        "         validation_data=(x_valid, y_valid),\n",
        "         callbacks=[checkpointer])\n",
        "    model.load_weights(key+'.hdf5')\n",
        "\n",
        "    score = model.evaluate(x_test, y_test, verbose=0)\n",
        "    accuracy[key] = score[1]\n",
        "    print('\\n', 'Test accuracy:', score[1],' for :',key,'.hdf5')"
      ],
      "metadata": {
        "colab": {
          "base_uri": "https://localhost:8080/"
        },
        "id": "vSXnb-0eW_9E",
        "outputId": "b49734fa-c617-4f34-9361-5b3ec86ef8d1"
      },
      "execution_count": null,
      "outputs": [
        {
          "output_type": "stream",
          "name": "stdout",
          "text": [
            "Epoch 1/10\n",
            "860/860 [==============================] - ETA: 0s - loss: 0.8722 - accuracy: 0.6663\n",
            "Epoch 1: val_loss improved from inf to 0.58621, saving model to base_model_reduced_filters_3_6.hdf5\n",
            "860/860 [==============================] - 7s 6ms/step - loss: 0.8722 - accuracy: 0.6663 - val_loss: 0.5862 - val_accuracy: 0.8046\n",
            "Epoch 2/10\n",
            "859/860 [============================>.] - ETA: 0s - loss: 0.6384 - accuracy: 0.7594\n",
            "Epoch 2: val_loss improved from 0.58621 to 0.48425, saving model to base_model_reduced_filters_3_6.hdf5\n",
            "860/860 [==============================] - 4s 5ms/step - loss: 0.6384 - accuracy: 0.7594 - val_loss: 0.4842 - val_accuracy: 0.8390\n",
            "Epoch 3/10\n",
            "856/860 [============================>.] - ETA: 0s - loss: 0.5626 - accuracy: 0.7895\n",
            "Epoch 3: val_loss improved from 0.48425 to 0.44101, saving model to base_model_reduced_filters_3_6.hdf5\n",
            "860/860 [==============================] - 4s 5ms/step - loss: 0.5623 - accuracy: 0.7896 - val_loss: 0.4410 - val_accuracy: 0.8498\n",
            "Epoch 4/10\n",
            "853/860 [============================>.] - ETA: 0s - loss: 0.5258 - accuracy: 0.8029\n",
            "Epoch 4: val_loss improved from 0.44101 to 0.40439, saving model to base_model_reduced_filters_3_6.hdf5\n",
            "860/860 [==============================] - 5s 5ms/step - loss: 0.5255 - accuracy: 0.8031 - val_loss: 0.4044 - val_accuracy: 0.8606\n",
            "Epoch 5/10\n",
            "855/860 [============================>.] - ETA: 0s - loss: 0.5003 - accuracy: 0.8131\n",
            "Epoch 5: val_loss improved from 0.40439 to 0.39257, saving model to base_model_reduced_filters_3_6.hdf5\n",
            "860/860 [==============================] - 4s 5ms/step - loss: 0.5008 - accuracy: 0.8130 - val_loss: 0.3926 - val_accuracy: 0.8640\n",
            "Epoch 6/10\n",
            "855/860 [============================>.] - ETA: 0s - loss: 0.4813 - accuracy: 0.8208\n",
            "Epoch 6: val_loss improved from 0.39257 to 0.37830, saving model to base_model_reduced_filters_3_6.hdf5\n",
            "860/860 [==============================] - 5s 5ms/step - loss: 0.4807 - accuracy: 0.8210 - val_loss: 0.3783 - val_accuracy: 0.8696\n",
            "Epoch 7/10\n",
            "858/860 [============================>.] - ETA: 0s - loss: 0.4712 - accuracy: 0.8251\n",
            "Epoch 7: val_loss improved from 0.37830 to 0.36539, saving model to base_model_reduced_filters_3_6.hdf5\n",
            "860/860 [==============================] - 4s 5ms/step - loss: 0.4713 - accuracy: 0.8251 - val_loss: 0.3654 - val_accuracy: 0.8786\n",
            "Epoch 8/10\n",
            "850/860 [============================>.] - ETA: 0s - loss: 0.4584 - accuracy: 0.8281\n",
            "Epoch 8: val_loss improved from 0.36539 to 0.36290, saving model to base_model_reduced_filters_3_6.hdf5\n",
            "860/860 [==============================] - 4s 5ms/step - loss: 0.4589 - accuracy: 0.8278 - val_loss: 0.3629 - val_accuracy: 0.8764\n",
            "Epoch 9/10\n",
            "855/860 [============================>.] - ETA: 0s - loss: 0.4506 - accuracy: 0.8305\n",
            "Epoch 9: val_loss improved from 0.36290 to 0.35022, saving model to base_model_reduced_filters_3_6.hdf5\n",
            "860/860 [==============================] - 5s 5ms/step - loss: 0.4503 - accuracy: 0.8306 - val_loss: 0.3502 - val_accuracy: 0.8758\n",
            "Epoch 10/10\n",
            "850/860 [============================>.] - ETA: 0s - loss: 0.4433 - accuracy: 0.8362\n",
            "Epoch 10: val_loss improved from 0.35022 to 0.34693, saving model to base_model_reduced_filters_3_6.hdf5\n",
            "860/860 [==============================] - 4s 5ms/step - loss: 0.4428 - accuracy: 0.8364 - val_loss: 0.3469 - val_accuracy: 0.8814\n",
            "\n",
            " Test accuracy: 0.8740000128746033  for : base_model_reduced_filters_3_6 .hdf5\n",
            "Epoch 1/10\n",
            "860/860 [==============================] - ETA: 0s - loss: 0.5039 - accuracy: 0.8157\n",
            "Epoch 1: val_loss improved from inf to 0.32397, saving model to base_model_increased_filter_128_256.hdf5\n",
            "860/860 [==============================] - 11s 11ms/step - loss: 0.5039 - accuracy: 0.8157 - val_loss: 0.3240 - val_accuracy: 0.8840\n",
            "Epoch 2/10\n",
            "857/860 [============================>.] - ETA: 0s - loss: 0.3466 - accuracy: 0.8737\n",
            "Epoch 2: val_loss improved from 0.32397 to 0.28501, saving model to base_model_increased_filter_128_256.hdf5\n",
            "860/860 [==============================] - 10s 11ms/step - loss: 0.3465 - accuracy: 0.8737 - val_loss: 0.2850 - val_accuracy: 0.8972\n",
            "Epoch 3/10\n",
            "858/860 [============================>.] - ETA: 0s - loss: 0.2999 - accuracy: 0.8904\n",
            "Epoch 3: val_loss improved from 0.28501 to 0.24082, saving model to base_model_increased_filter_128_256.hdf5\n",
            "860/860 [==============================] - 9s 11ms/step - loss: 0.2997 - accuracy: 0.8905 - val_loss: 0.2408 - val_accuracy: 0.9136\n",
            "Epoch 4/10\n",
            "859/860 [============================>.] - ETA: 0s - loss: 0.2737 - accuracy: 0.8990\n",
            "Epoch 4: val_loss improved from 0.24082 to 0.23936, saving model to base_model_increased_filter_128_256.hdf5\n",
            "860/860 [==============================] - 9s 11ms/step - loss: 0.2737 - accuracy: 0.8990 - val_loss: 0.2394 - val_accuracy: 0.9106\n",
            "Epoch 5/10\n",
            "857/860 [============================>.] - ETA: 0s - loss: 0.2561 - accuracy: 0.9061\n",
            "Epoch 5: val_loss improved from 0.23936 to 0.22144, saving model to base_model_increased_filter_128_256.hdf5\n",
            "860/860 [==============================] - 9s 11ms/step - loss: 0.2562 - accuracy: 0.9061 - val_loss: 0.2214 - val_accuracy: 0.9180\n",
            "Epoch 6/10\n",
            "860/860 [==============================] - ETA: 0s - loss: 0.2389 - accuracy: 0.9111\n",
            "Epoch 6: val_loss improved from 0.22144 to 0.21235, saving model to base_model_increased_filter_128_256.hdf5\n",
            "860/860 [==============================] - 9s 11ms/step - loss: 0.2389 - accuracy: 0.9111 - val_loss: 0.2123 - val_accuracy: 0.9236\n",
            "Epoch 7/10\n",
            "858/860 [============================>.] - ETA: 0s - loss: 0.2254 - accuracy: 0.9164\n",
            "Epoch 7: val_loss improved from 0.21235 to 0.20966, saving model to base_model_increased_filter_128_256.hdf5\n",
            "860/860 [==============================] - 9s 11ms/step - loss: 0.2254 - accuracy: 0.9163 - val_loss: 0.2097 - val_accuracy: 0.9212\n",
            "Epoch 8/10\n",
            "855/860 [============================>.] - ETA: 0s - loss: 0.2134 - accuracy: 0.9217\n",
            "Epoch 8: val_loss improved from 0.20966 to 0.20560, saving model to base_model_increased_filter_128_256.hdf5\n",
            "860/860 [==============================] - 9s 10ms/step - loss: 0.2131 - accuracy: 0.9218 - val_loss: 0.2056 - val_accuracy: 0.9248\n",
            "Epoch 9/10\n",
            "855/860 [============================>.] - ETA: 0s - loss: 0.1989 - accuracy: 0.9248\n",
            "Epoch 9: val_loss did not improve from 0.20560\n",
            "860/860 [==============================] - 9s 11ms/step - loss: 0.1989 - accuracy: 0.9248 - val_loss: 0.2200 - val_accuracy: 0.9176\n",
            "Epoch 10/10\n",
            "859/860 [============================>.] - ETA: 0s - loss: 0.1904 - accuracy: 0.9293\n",
            "Epoch 10: val_loss did not improve from 0.20560\n",
            "860/860 [==============================] - 9s 11ms/step - loss: 0.1904 - accuracy: 0.9293 - val_loss: 0.2137 - val_accuracy: 0.9214\n",
            "\n",
            " Test accuracy: 0.9211000204086304  for : base_model_increased_filter_128_256 .hdf5\n",
            "Epoch 1/10\n",
            "856/860 [============================>.] - ETA: 0s - loss: 0.7509 - accuracy: 0.7220\n",
            "Epoch 1: val_loss improved from inf to 0.58265, saving model to base_model_decreased_kernel_1.hdf5\n",
            "860/860 [==============================] - 6s 5ms/step - loss: 0.7503 - accuracy: 0.7221 - val_loss: 0.5827 - val_accuracy: 0.7864\n",
            "Epoch 2/10\n",
            "853/860 [============================>.] - ETA: 0s - loss: 0.5778 - accuracy: 0.7850\n",
            "Epoch 2: val_loss improved from 0.58265 to 0.51975, saving model to base_model_decreased_kernel_1.hdf5\n",
            "860/860 [==============================] - 4s 5ms/step - loss: 0.5781 - accuracy: 0.7848 - val_loss: 0.5198 - val_accuracy: 0.7970\n",
            "Epoch 3/10\n",
            "852/860 [============================>.] - ETA: 0s - loss: 0.5466 - accuracy: 0.7979\n",
            "Epoch 3: val_loss improved from 0.51975 to 0.51655, saving model to base_model_decreased_kernel_1.hdf5\n",
            "860/860 [==============================] - 4s 5ms/step - loss: 0.5468 - accuracy: 0.7978 - val_loss: 0.5166 - val_accuracy: 0.8010\n",
            "Epoch 4/10\n",
            "858/860 [============================>.] - ETA: 0s - loss: 0.5248 - accuracy: 0.8027\n",
            "Epoch 4: val_loss improved from 0.51655 to 0.48297, saving model to base_model_decreased_kernel_1.hdf5\n",
            "860/860 [==============================] - 4s 5ms/step - loss: 0.5248 - accuracy: 0.8028 - val_loss: 0.4830 - val_accuracy: 0.8214\n",
            "Epoch 5/10\n",
            "855/860 [============================>.] - ETA: 0s - loss: 0.5086 - accuracy: 0.8104\n",
            "Epoch 5: val_loss improved from 0.48297 to 0.46505, saving model to base_model_decreased_kernel_1.hdf5\n",
            "860/860 [==============================] - 4s 5ms/step - loss: 0.5085 - accuracy: 0.8106 - val_loss: 0.4651 - val_accuracy: 0.8276\n",
            "Epoch 6/10\n",
            "859/860 [============================>.] - ETA: 0s - loss: 0.4852 - accuracy: 0.8196\n",
            "Epoch 6: val_loss did not improve from 0.46505\n",
            "860/860 [==============================] - 4s 5ms/step - loss: 0.4852 - accuracy: 0.8196 - val_loss: 0.4772 - val_accuracy: 0.8152\n",
            "Epoch 7/10\n",
            "855/860 [============================>.] - ETA: 0s - loss: 0.4695 - accuracy: 0.8238\n",
            "Epoch 7: val_loss did not improve from 0.46505\n",
            "860/860 [==============================] - 4s 5ms/step - loss: 0.4691 - accuracy: 0.8240 - val_loss: 0.4811 - val_accuracy: 0.8170\n",
            "Epoch 8/10\n",
            "851/860 [============================>.] - ETA: 0s - loss: 0.4537 - accuracy: 0.8316\n",
            "Epoch 8: val_loss improved from 0.46505 to 0.40598, saving model to base_model_decreased_kernel_1.hdf5\n",
            "860/860 [==============================] - 4s 5ms/step - loss: 0.4541 - accuracy: 0.8312 - val_loss: 0.4060 - val_accuracy: 0.8474\n",
            "Epoch 9/10\n",
            "858/860 [============================>.] - ETA: 0s - loss: 0.4457 - accuracy: 0.8346\n",
            "Epoch 9: val_loss improved from 0.40598 to 0.40525, saving model to base_model_decreased_kernel_1.hdf5\n",
            "860/860 [==============================] - 4s 5ms/step - loss: 0.4456 - accuracy: 0.8345 - val_loss: 0.4052 - val_accuracy: 0.8480\n",
            "Epoch 10/10\n",
            "858/860 [============================>.] - ETA: 0s - loss: 0.4399 - accuracy: 0.8365\n",
            "Epoch 10: val_loss did not improve from 0.40525\n",
            "860/860 [==============================] - 5s 5ms/step - loss: 0.4400 - accuracy: 0.8365 - val_loss: 0.4108 - val_accuracy: 0.8442\n",
            "\n",
            " Test accuracy: 0.8356000185012817  for : base_model_decreased_kernel_1 .hdf5\n",
            "Epoch 1/10\n",
            "860/860 [==============================] - ETA: 0s - loss: 1.2400 - accuracy: 0.5269\n",
            "Epoch 1: val_loss improved from inf to 0.73575, saving model to base_model_increased_pooling_4.hdf5\n",
            "860/860 [==============================] - 7s 6ms/step - loss: 1.2400 - accuracy: 0.5269 - val_loss: 0.7358 - val_accuracy: 0.7308\n",
            "Epoch 2/10\n",
            "859/860 [============================>.] - ETA: 0s - loss: 0.8710 - accuracy: 0.6750\n",
            "Epoch 2: val_loss improved from 0.73575 to 0.65104, saving model to base_model_increased_pooling_4.hdf5\n",
            "860/860 [==============================] - 5s 6ms/step - loss: 0.8709 - accuracy: 0.6751 - val_loss: 0.6510 - val_accuracy: 0.7670\n",
            "Epoch 3/10\n",
            "855/860 [============================>.] - ETA: 0s - loss: 0.8076 - accuracy: 0.7002\n",
            "Epoch 3: val_loss improved from 0.65104 to 0.61190, saving model to base_model_increased_pooling_4.hdf5\n",
            "860/860 [==============================] - 5s 5ms/step - loss: 0.8074 - accuracy: 0.7003 - val_loss: 0.6119 - val_accuracy: 0.7790\n",
            "Epoch 4/10\n",
            "857/860 [============================>.] - ETA: 0s - loss: 0.7651 - accuracy: 0.7210\n",
            "Epoch 4: val_loss improved from 0.61190 to 0.57129, saving model to base_model_increased_pooling_4.hdf5\n",
            "860/860 [==============================] - 5s 6ms/step - loss: 0.7650 - accuracy: 0.7210 - val_loss: 0.5713 - val_accuracy: 0.8002\n",
            "Epoch 5/10\n",
            "857/860 [============================>.] - ETA: 0s - loss: 0.7386 - accuracy: 0.7293\n",
            "Epoch 5: val_loss improved from 0.57129 to 0.56588, saving model to base_model_increased_pooling_4.hdf5\n",
            "860/860 [==============================] - 5s 6ms/step - loss: 0.7388 - accuracy: 0.7294 - val_loss: 0.5659 - val_accuracy: 0.8036\n",
            "Epoch 6/10\n",
            "853/860 [============================>.] - ETA: 0s - loss: 0.7187 - accuracy: 0.7354\n",
            "Epoch 6: val_loss improved from 0.56588 to 0.55036, saving model to base_model_increased_pooling_4.hdf5\n",
            "860/860 [==============================] - 5s 5ms/step - loss: 0.7187 - accuracy: 0.7356 - val_loss: 0.5504 - val_accuracy: 0.8030\n",
            "Epoch 7/10\n",
            "860/860 [==============================] - ETA: 0s - loss: 0.7014 - accuracy: 0.7420\n",
            "Epoch 7: val_loss improved from 0.55036 to 0.53330, saving model to base_model_increased_pooling_4.hdf5\n",
            "860/860 [==============================] - 5s 6ms/step - loss: 0.7014 - accuracy: 0.7420 - val_loss: 0.5333 - val_accuracy: 0.8084\n",
            "Epoch 8/10\n",
            "852/860 [============================>.] - ETA: 0s - loss: 0.6911 - accuracy: 0.7463\n",
            "Epoch 8: val_loss improved from 0.53330 to 0.52565, saving model to base_model_increased_pooling_4.hdf5\n",
            "860/860 [==============================] - 5s 5ms/step - loss: 0.6913 - accuracy: 0.7462 - val_loss: 0.5256 - val_accuracy: 0.8120\n",
            "Epoch 9/10\n",
            "852/860 [============================>.] - ETA: 0s - loss: 0.6852 - accuracy: 0.7499\n",
            "Epoch 9: val_loss improved from 0.52565 to 0.51483, saving model to base_model_increased_pooling_4.hdf5\n",
            "860/860 [==============================] - 5s 5ms/step - loss: 0.6854 - accuracy: 0.7498 - val_loss: 0.5148 - val_accuracy: 0.8158\n",
            "Epoch 10/10\n",
            "853/860 [============================>.] - ETA: 0s - loss: 0.6766 - accuracy: 0.7524\n",
            "Epoch 10: val_loss improved from 0.51483 to 0.50917, saving model to base_model_increased_pooling_4.hdf5\n",
            "860/860 [==============================] - 5s 6ms/step - loss: 0.6769 - accuracy: 0.7523 - val_loss: 0.5092 - val_accuracy: 0.8162\n",
            "\n",
            " Test accuracy: 0.8011999726295471  for : base_model_increased_pooling_4 .hdf5\n",
            "Epoch 1/10\n",
            "858/860 [============================>.] - ETA: 0s - loss: 0.8331 - accuracy: 0.6818\n",
            "Epoch 1: val_loss improved from inf to 0.87450, saving model to base_model_increased_dropout_50_50.hdf5\n",
            "860/860 [==============================] - 6s 5ms/step - loss: 0.8328 - accuracy: 0.6819 - val_loss: 0.8745 - val_accuracy: 0.6536\n",
            "Epoch 2/10\n",
            "853/860 [============================>.] - ETA: 0s - loss: 0.6635 - accuracy: 0.7499\n",
            "Epoch 2: val_loss improved from 0.87450 to 0.84728, saving model to base_model_increased_dropout_50_50.hdf5\n",
            "860/860 [==============================] - 5s 5ms/step - loss: 0.6634 - accuracy: 0.7498 - val_loss: 0.8473 - val_accuracy: 0.6564\n",
            "Epoch 3/10\n",
            "857/860 [============================>.] - ETA: 0s - loss: 0.6347 - accuracy: 0.7610\n",
            "Epoch 3: val_loss did not improve from 0.84728\n",
            "860/860 [==============================] - 4s 5ms/step - loss: 0.6348 - accuracy: 0.7608 - val_loss: 0.8728 - val_accuracy: 0.6256\n",
            "Epoch 4/10\n",
            "848/860 [============================>.] - ETA: 0s - loss: 0.6147 - accuracy: 0.7663\n",
            "Epoch 4: val_loss improved from 0.84728 to 0.71900, saving model to base_model_increased_dropout_50_50.hdf5\n",
            "860/860 [==============================] - 4s 5ms/step - loss: 0.6143 - accuracy: 0.7663 - val_loss: 0.7190 - val_accuracy: 0.7416\n",
            "Epoch 5/10\n",
            "859/860 [============================>.] - ETA: 0s - loss: 0.6033 - accuracy: 0.7716\n",
            "Epoch 5: val_loss did not improve from 0.71900\n",
            "860/860 [==============================] - 5s 5ms/step - loss: 0.6031 - accuracy: 0.7717 - val_loss: 0.7367 - val_accuracy: 0.7318\n",
            "Epoch 6/10\n",
            "860/860 [==============================] - ETA: 0s - loss: 0.5919 - accuracy: 0.7776\n",
            "Epoch 6: val_loss did not improve from 0.71900\n",
            "860/860 [==============================] - 4s 5ms/step - loss: 0.5919 - accuracy: 0.7776 - val_loss: 0.7696 - val_accuracy: 0.7034\n",
            "Epoch 7/10\n",
            "859/860 [============================>.] - ETA: 0s - loss: 0.5854 - accuracy: 0.7794\n",
            "Epoch 7: val_loss improved from 0.71900 to 0.68601, saving model to base_model_increased_dropout_50_50.hdf5\n",
            "860/860 [==============================] - 4s 5ms/step - loss: 0.5853 - accuracy: 0.7794 - val_loss: 0.6860 - val_accuracy: 0.7458\n",
            "Epoch 8/10\n",
            "860/860 [==============================] - ETA: 0s - loss: 0.5817 - accuracy: 0.7797\n",
            "Epoch 8: val_loss did not improve from 0.68601\n",
            "860/860 [==============================] - 5s 5ms/step - loss: 0.5817 - accuracy: 0.7797 - val_loss: 0.7050 - val_accuracy: 0.7308\n",
            "Epoch 9/10\n",
            "852/860 [============================>.] - ETA: 0s - loss: 0.5749 - accuracy: 0.7814\n",
            "Epoch 9: val_loss did not improve from 0.68601\n",
            "860/860 [==============================] - 4s 5ms/step - loss: 0.5748 - accuracy: 0.7815 - val_loss: 0.7155 - val_accuracy: 0.7236\n",
            "Epoch 10/10\n",
            "852/860 [============================>.] - ETA: 0s - loss: 0.5714 - accuracy: 0.7846\n",
            "Epoch 10: val_loss improved from 0.68601 to 0.67353, saving model to base_model_increased_dropout_50_50.hdf5\n",
            "860/860 [==============================] - 4s 5ms/step - loss: 0.5706 - accuracy: 0.7848 - val_loss: 0.6735 - val_accuracy: 0.7530\n",
            "\n",
            " Test accuracy: 0.7461000084877014  for : base_model_increased_dropout_50_50 .hdf5\n",
            "Epoch 1/10\n",
            "853/860 [============================>.] - ETA: 0s - loss: 0.5626 - accuracy: 0.7925\n",
            "Epoch 1: val_loss improved from inf to 0.35369, saving model to base_model_decresed_dropout_10_20.hdf5\n",
            "860/860 [==============================] - 6s 6ms/step - loss: 0.5620 - accuracy: 0.7928 - val_loss: 0.3537 - val_accuracy: 0.8750\n",
            "Epoch 2/10\n",
            "857/860 [============================>.] - ETA: 0s - loss: 0.3827 - accuracy: 0.8612\n",
            "Epoch 2: val_loss improved from 0.35369 to 0.30648, saving model to base_model_decresed_dropout_10_20.hdf5\n",
            "860/860 [==============================] - 5s 6ms/step - loss: 0.3825 - accuracy: 0.8612 - val_loss: 0.3065 - val_accuracy: 0.8884\n",
            "Epoch 3/10\n",
            "852/860 [============================>.] - ETA: 0s - loss: 0.3415 - accuracy: 0.8743\n",
            "Epoch 3: val_loss improved from 0.30648 to 0.27488, saving model to base_model_decresed_dropout_10_20.hdf5\n",
            "860/860 [==============================] - 5s 5ms/step - loss: 0.3413 - accuracy: 0.8743 - val_loss: 0.2749 - val_accuracy: 0.8974\n",
            "Epoch 4/10\n",
            "856/860 [============================>.] - ETA: 0s - loss: 0.3110 - accuracy: 0.8866\n",
            "Epoch 4: val_loss improved from 0.27488 to 0.26544, saving model to base_model_decresed_dropout_10_20.hdf5\n",
            "860/860 [==============================] - 5s 6ms/step - loss: 0.3109 - accuracy: 0.8866 - val_loss: 0.2654 - val_accuracy: 0.9030\n",
            "Epoch 5/10\n",
            "853/860 [============================>.] - ETA: 0s - loss: 0.2931 - accuracy: 0.8924\n",
            "Epoch 5: val_loss improved from 0.26544 to 0.25929, saving model to base_model_decresed_dropout_10_20.hdf5\n",
            "860/860 [==============================] - 5s 5ms/step - loss: 0.2931 - accuracy: 0.8924 - val_loss: 0.2593 - val_accuracy: 0.9050\n",
            "Epoch 6/10\n",
            "859/860 [============================>.] - ETA: 0s - loss: 0.2760 - accuracy: 0.8988\n",
            "Epoch 6: val_loss improved from 0.25929 to 0.24016, saving model to base_model_decresed_dropout_10_20.hdf5\n",
            "860/860 [==============================] - 4s 5ms/step - loss: 0.2760 - accuracy: 0.8988 - val_loss: 0.2402 - val_accuracy: 0.9122\n",
            "Epoch 7/10\n",
            "855/860 [============================>.] - ETA: 0s - loss: 0.2610 - accuracy: 0.9032\n",
            "Epoch 7: val_loss improved from 0.24016 to 0.22874, saving model to base_model_decresed_dropout_10_20.hdf5\n",
            "860/860 [==============================] - 5s 6ms/step - loss: 0.2612 - accuracy: 0.9031 - val_loss: 0.2287 - val_accuracy: 0.9148\n",
            "Epoch 8/10\n",
            "852/860 [============================>.] - ETA: 0s - loss: 0.2514 - accuracy: 0.9071\n",
            "Epoch 8: val_loss did not improve from 0.22874\n",
            "860/860 [==============================] - 5s 5ms/step - loss: 0.2513 - accuracy: 0.9072 - val_loss: 0.2376 - val_accuracy: 0.9110\n",
            "Epoch 9/10\n",
            "854/860 [============================>.] - ETA: 0s - loss: 0.2406 - accuracy: 0.9108\n",
            "Epoch 9: val_loss improved from 0.22874 to 0.22465, saving model to base_model_decresed_dropout_10_20.hdf5\n",
            "860/860 [==============================] - 5s 6ms/step - loss: 0.2406 - accuracy: 0.9107 - val_loss: 0.2247 - val_accuracy: 0.9142\n",
            "Epoch 10/10\n",
            "852/860 [============================>.] - ETA: 0s - loss: 0.2316 - accuracy: 0.9142\n",
            "Epoch 10: val_loss improved from 0.22465 to 0.21674, saving model to base_model_decresed_dropout_10_20.hdf5\n",
            "860/860 [==============================] - 5s 5ms/step - loss: 0.2312 - accuracy: 0.9142 - val_loss: 0.2167 - val_accuracy: 0.9180\n",
            "\n",
            " Test accuracy: 0.9129999876022339  for : base_model_decresed_dropout_10_20 .hdf5\n",
            "Epoch 1/10\n",
            "860/860 [==============================] - ETA: 0s - loss: 0.5584 - accuracy: 0.7949\n",
            "Epoch 1: val_loss improved from inf to 0.31851, saving model to base_model_add_conv_layer.hdf5\n",
            "860/860 [==============================] - 12s 12ms/step - loss: 0.5584 - accuracy: 0.7949 - val_loss: 0.3185 - val_accuracy: 0.8850\n",
            "Epoch 2/10\n",
            "858/860 [============================>.] - ETA: 0s - loss: 0.3684 - accuracy: 0.8668\n",
            "Epoch 2: val_loss improved from 0.31851 to 0.26590, saving model to base_model_add_conv_layer.hdf5\n",
            "860/860 [==============================] - 10s 12ms/step - loss: 0.3684 - accuracy: 0.8668 - val_loss: 0.2659 - val_accuracy: 0.9048\n",
            "Epoch 3/10\n",
            "860/860 [==============================] - ETA: 0s - loss: 0.3224 - accuracy: 0.8822\n",
            "Epoch 3: val_loss improved from 0.26590 to 0.24821, saving model to base_model_add_conv_layer.hdf5\n",
            "860/860 [==============================] - 10s 12ms/step - loss: 0.3224 - accuracy: 0.8822 - val_loss: 0.2482 - val_accuracy: 0.9120\n",
            "Epoch 4/10\n",
            "859/860 [============================>.] - ETA: 0s - loss: 0.2954 - accuracy: 0.8911\n",
            "Epoch 4: val_loss improved from 0.24821 to 0.23201, saving model to base_model_add_conv_layer.hdf5\n",
            "860/860 [==============================] - 10s 12ms/step - loss: 0.2954 - accuracy: 0.8911 - val_loss: 0.2320 - val_accuracy: 0.9122\n",
            "Epoch 5/10\n",
            "856/860 [============================>.] - ETA: 0s - loss: 0.2793 - accuracy: 0.8974\n",
            "Epoch 5: val_loss improved from 0.23201 to 0.22235, saving model to base_model_add_conv_layer.hdf5\n",
            "860/860 [==============================] - 10s 12ms/step - loss: 0.2792 - accuracy: 0.8975 - val_loss: 0.2224 - val_accuracy: 0.9206\n",
            "Epoch 6/10\n",
            "858/860 [============================>.] - ETA: 0s - loss: 0.2669 - accuracy: 0.9034\n",
            "Epoch 6: val_loss improved from 0.22235 to 0.21724, saving model to base_model_add_conv_layer.hdf5\n",
            "860/860 [==============================] - 10s 12ms/step - loss: 0.2668 - accuracy: 0.9034 - val_loss: 0.2172 - val_accuracy: 0.9210\n",
            "Epoch 7/10\n",
            "858/860 [============================>.] - ETA: 0s - loss: 0.2519 - accuracy: 0.9070\n",
            "Epoch 7: val_loss improved from 0.21724 to 0.20329, saving model to base_model_add_conv_layer.hdf5\n",
            "860/860 [==============================] - 10s 12ms/step - loss: 0.2520 - accuracy: 0.9069 - val_loss: 0.2033 - val_accuracy: 0.9236\n",
            "Epoch 8/10\n",
            "858/860 [============================>.] - ETA: 0s - loss: 0.2415 - accuracy: 0.9092\n",
            "Epoch 8: val_loss did not improve from 0.20329\n",
            "860/860 [==============================] - 10s 12ms/step - loss: 0.2414 - accuracy: 0.9092 - val_loss: 0.2052 - val_accuracy: 0.9226\n",
            "Epoch 9/10\n",
            "856/860 [============================>.] - ETA: 0s - loss: 0.2339 - accuracy: 0.9146\n",
            "Epoch 9: val_loss did not improve from 0.20329\n",
            "860/860 [==============================] - 10s 12ms/step - loss: 0.2335 - accuracy: 0.9147 - val_loss: 0.2040 - val_accuracy: 0.9214\n",
            "Epoch 10/10\n",
            "859/860 [============================>.] - ETA: 0s - loss: 0.2276 - accuracy: 0.9173\n",
            "Epoch 10: val_loss improved from 0.20329 to 0.19255, saving model to base_model_add_conv_layer.hdf5\n",
            "860/860 [==============================] - 10s 11ms/step - loss: 0.2275 - accuracy: 0.9174 - val_loss: 0.1926 - val_accuracy: 0.9258\n",
            "\n",
            " Test accuracy: 0.9197999835014343  for : base_model_add_conv_layer .hdf5\n",
            "Epoch 1/10\n",
            "860/860 [==============================] - ETA: 0s - loss: 0.4874 - accuracy: 0.8219\n",
            "Epoch 1: val_loss improved from inf to 0.28330, saving model to model_with_new_architecture_vgg_net.hdf5\n",
            "860/860 [==============================] - 15s 14ms/step - loss: 0.4874 - accuracy: 0.8219 - val_loss: 0.2833 - val_accuracy: 0.9038\n",
            "Epoch 2/10\n",
            "856/860 [============================>.] - ETA: 0s - loss: 0.2901 - accuracy: 0.8974\n",
            "Epoch 2: val_loss improved from 0.28330 to 0.25572, saving model to model_with_new_architecture_vgg_net.hdf5\n",
            "860/860 [==============================] - 11s 13ms/step - loss: 0.2899 - accuracy: 0.8975 - val_loss: 0.2557 - val_accuracy: 0.9080\n",
            "Epoch 3/10\n",
            "859/860 [============================>.] - ETA: 0s - loss: 0.2394 - accuracy: 0.9126\n",
            "Epoch 3: val_loss improved from 0.25572 to 0.21609, saving model to model_with_new_architecture_vgg_net.hdf5\n",
            "860/860 [==============================] - 11s 13ms/step - loss: 0.2394 - accuracy: 0.9126 - val_loss: 0.2161 - val_accuracy: 0.9240\n",
            "Epoch 4/10\n",
            "859/860 [============================>.] - ETA: 0s - loss: 0.2063 - accuracy: 0.9254\n",
            "Epoch 4: val_loss improved from 0.21609 to 0.21152, saving model to model_with_new_architecture_vgg_net.hdf5\n",
            "860/860 [==============================] - 12s 13ms/step - loss: 0.2063 - accuracy: 0.9254 - val_loss: 0.2115 - val_accuracy: 0.9246\n",
            "Epoch 5/10\n",
            "856/860 [============================>.] - ETA: 0s - loss: 0.1804 - accuracy: 0.9345\n",
            "Epoch 5: val_loss did not improve from 0.21152\n",
            "860/860 [==============================] - 11s 13ms/step - loss: 0.1803 - accuracy: 0.9345 - val_loss: 0.2167 - val_accuracy: 0.9246\n",
            "Epoch 6/10\n",
            "856/860 [============================>.] - ETA: 0s - loss: 0.1592 - accuracy: 0.9416\n",
            "Epoch 6: val_loss did not improve from 0.21152\n",
            "860/860 [==============================] - 11s 13ms/step - loss: 0.1591 - accuracy: 0.9417 - val_loss: 0.2150 - val_accuracy: 0.9266\n",
            "Epoch 7/10\n",
            "859/860 [============================>.] - ETA: 0s - loss: 0.1418 - accuracy: 0.9488\n",
            "Epoch 7: val_loss did not improve from 0.21152\n",
            "860/860 [==============================] - 11s 13ms/step - loss: 0.1419 - accuracy: 0.9488 - val_loss: 0.2130 - val_accuracy: 0.9276\n",
            "Epoch 8/10\n",
            "856/860 [============================>.] - ETA: 0s - loss: 0.1210 - accuracy: 0.9559\n",
            "Epoch 8: val_loss did not improve from 0.21152\n",
            "860/860 [==============================] - 11s 13ms/step - loss: 0.1210 - accuracy: 0.9559 - val_loss: 0.2180 - val_accuracy: 0.9280\n",
            "Epoch 9/10\n",
            "859/860 [============================>.] - ETA: 0s - loss: 0.1093 - accuracy: 0.9612\n",
            "Epoch 9: val_loss did not improve from 0.21152\n",
            "860/860 [==============================] - 11s 13ms/step - loss: 0.1093 - accuracy: 0.9612 - val_loss: 0.2347 - val_accuracy: 0.9262\n",
            "Epoch 10/10\n",
            "859/860 [============================>.] - ETA: 0s - loss: 0.0948 - accuracy: 0.9660\n",
            "Epoch 10: val_loss did not improve from 0.21152\n",
            "860/860 [==============================] - 12s 14ms/step - loss: 0.0948 - accuracy: 0.9660 - val_loss: 0.2314 - val_accuracy: 0.9296\n",
            "\n",
            " Test accuracy: 0.9182000160217285  for : model_with_new_architecture_vgg_net .hdf5\n",
            "Epoch 1/10\n",
            "860/860 [==============================] - ETA: 0s - loss: 0.5635 - accuracy: 0.7935\n",
            "Epoch 1: val_loss improved from inf to 0.37704, saving model to model_with_new_architecture_2.hdf5\n",
            "860/860 [==============================] - 7s 6ms/step - loss: 0.5635 - accuracy: 0.7935 - val_loss: 0.3770 - val_accuracy: 0.8662\n",
            "Epoch 2/10\n",
            "860/860 [==============================] - ETA: 0s - loss: 0.3422 - accuracy: 0.8770\n",
            "Epoch 2: val_loss improved from 0.37704 to 0.29510, saving model to model_with_new_architecture_2.hdf5\n",
            "860/860 [==============================] - 5s 5ms/step - loss: 0.3422 - accuracy: 0.8770 - val_loss: 0.2951 - val_accuracy: 0.8928\n",
            "Epoch 3/10\n",
            "851/860 [============================>.] - ETA: 0s - loss: 0.2900 - accuracy: 0.8953\n",
            "Epoch 3: val_loss improved from 0.29510 to 0.24410, saving model to model_with_new_architecture_2.hdf5\n",
            "860/860 [==============================] - 5s 6ms/step - loss: 0.2898 - accuracy: 0.8953 - val_loss: 0.2441 - val_accuracy: 0.9090\n",
            "Epoch 4/10\n",
            "852/860 [============================>.] - ETA: 0s - loss: 0.2579 - accuracy: 0.9067\n",
            "Epoch 4: val_loss did not improve from 0.24410\n",
            "860/860 [==============================] - 5s 5ms/step - loss: 0.2580 - accuracy: 0.9066 - val_loss: 0.2498 - val_accuracy: 0.9022\n",
            "Epoch 5/10\n",
            "860/860 [==============================] - ETA: 0s - loss: 0.2353 - accuracy: 0.9146\n",
            "Epoch 5: val_loss improved from 0.24410 to 0.22290, saving model to model_with_new_architecture_2.hdf5\n",
            "860/860 [==============================] - 5s 6ms/step - loss: 0.2353 - accuracy: 0.9146 - val_loss: 0.2229 - val_accuracy: 0.9172\n",
            "Epoch 6/10\n",
            "854/860 [============================>.] - ETA: 0s - loss: 0.2132 - accuracy: 0.9214\n",
            "Epoch 6: val_loss improved from 0.22290 to 0.22167, saving model to model_with_new_architecture_2.hdf5\n",
            "860/860 [==============================] - 5s 6ms/step - loss: 0.2131 - accuracy: 0.9215 - val_loss: 0.2217 - val_accuracy: 0.9166\n",
            "Epoch 7/10\n",
            "858/860 [============================>.] - ETA: 0s - loss: 0.1958 - accuracy: 0.9269\n",
            "Epoch 7: val_loss improved from 0.22167 to 0.21041, saving model to model_with_new_architecture_2.hdf5\n",
            "860/860 [==============================] - 5s 6ms/step - loss: 0.1959 - accuracy: 0.9269 - val_loss: 0.2104 - val_accuracy: 0.9188\n",
            "Epoch 8/10\n",
            "857/860 [============================>.] - ETA: 0s - loss: 0.1779 - accuracy: 0.9336\n",
            "Epoch 8: val_loss did not improve from 0.21041\n",
            "860/860 [==============================] - 5s 6ms/step - loss: 0.1779 - accuracy: 0.9337 - val_loss: 0.2209 - val_accuracy: 0.9196\n",
            "Epoch 9/10\n",
            "852/860 [============================>.] - ETA: 0s - loss: 0.1666 - accuracy: 0.9377\n",
            "Epoch 9: val_loss did not improve from 0.21041\n",
            "860/860 [==============================] - 5s 6ms/step - loss: 0.1664 - accuracy: 0.9378 - val_loss: 0.2123 - val_accuracy: 0.9274\n",
            "Epoch 10/10\n",
            "859/860 [============================>.] - ETA: 0s - loss: 0.1504 - accuracy: 0.9432\n",
            "Epoch 10: val_loss did not improve from 0.21041\n",
            "860/860 [==============================] - 5s 6ms/step - loss: 0.1504 - accuracy: 0.9432 - val_loss: 0.2124 - val_accuracy: 0.9256\n",
            "\n",
            " Test accuracy: 0.914900004863739  for : model_with_new_architecture_2 .hdf5\n",
            "Epoch 1/10\n",
            "860/860 [==============================] - ETA: 0s - loss: 0.5665 - accuracy: 0.7899\n",
            "Epoch 1: val_loss improved from inf to 0.33631, saving model to model_with_new_architecture_3.hdf5\n",
            "860/860 [==============================] - 11s 10ms/step - loss: 0.5665 - accuracy: 0.7899 - val_loss: 0.3363 - val_accuracy: 0.8692\n",
            "Epoch 2/10\n",
            "859/860 [============================>.] - ETA: 0s - loss: 0.3322 - accuracy: 0.8775\n",
            "Epoch 2: val_loss improved from 0.33631 to 0.25243, saving model to model_with_new_architecture_3.hdf5\n",
            "860/860 [==============================] - 8s 10ms/step - loss: 0.3321 - accuracy: 0.8775 - val_loss: 0.2524 - val_accuracy: 0.9018\n",
            "Epoch 3/10\n",
            "857/860 [============================>.] - ETA: 0s - loss: 0.2841 - accuracy: 0.8955\n",
            "Epoch 3: val_loss improved from 0.25243 to 0.22560, saving model to model_with_new_architecture_3.hdf5\n",
            "860/860 [==============================] - 8s 9ms/step - loss: 0.2840 - accuracy: 0.8955 - val_loss: 0.2256 - val_accuracy: 0.9128\n",
            "Epoch 4/10\n",
            "859/860 [============================>.] - ETA: 0s - loss: 0.2583 - accuracy: 0.9043\n",
            "Epoch 4: val_loss did not improve from 0.22560\n",
            "860/860 [==============================] - 8s 9ms/step - loss: 0.2583 - accuracy: 0.9043 - val_loss: 0.2276 - val_accuracy: 0.9148\n",
            "Epoch 5/10\n",
            "859/860 [============================>.] - ETA: 0s - loss: 0.2375 - accuracy: 0.9121\n",
            "Epoch 5: val_loss improved from 0.22560 to 0.20729, saving model to model_with_new_architecture_3.hdf5\n",
            "860/860 [==============================] - 8s 10ms/step - loss: 0.2375 - accuracy: 0.9121 - val_loss: 0.2073 - val_accuracy: 0.9220\n",
            "Epoch 6/10\n",
            "857/860 [============================>.] - ETA: 0s - loss: 0.2253 - accuracy: 0.9174\n",
            "Epoch 6: val_loss improved from 0.20729 to 0.20567, saving model to model_with_new_architecture_3.hdf5\n",
            "860/860 [==============================] - 8s 9ms/step - loss: 0.2255 - accuracy: 0.9173 - val_loss: 0.2057 - val_accuracy: 0.9202\n",
            "Epoch 7/10\n",
            "855/860 [============================>.] - ETA: 0s - loss: 0.2140 - accuracy: 0.9216\n",
            "Epoch 7: val_loss improved from 0.20567 to 0.19939, saving model to model_with_new_architecture_3.hdf5\n",
            "860/860 [==============================] - 8s 9ms/step - loss: 0.2141 - accuracy: 0.9216 - val_loss: 0.1994 - val_accuracy: 0.9228\n",
            "Epoch 8/10\n",
            "854/860 [============================>.] - ETA: 0s - loss: 0.2028 - accuracy: 0.9261\n",
            "Epoch 8: val_loss improved from 0.19939 to 0.19084, saving model to model_with_new_architecture_3.hdf5\n",
            "860/860 [==============================] - 8s 9ms/step - loss: 0.2026 - accuracy: 0.9262 - val_loss: 0.1908 - val_accuracy: 0.9310\n",
            "Epoch 9/10\n",
            "859/860 [============================>.] - ETA: 0s - loss: 0.1959 - accuracy: 0.9280\n",
            "Epoch 9: val_loss improved from 0.19084 to 0.18369, saving model to model_with_new_architecture_3.hdf5\n",
            "860/860 [==============================] - 8s 9ms/step - loss: 0.1959 - accuracy: 0.9280 - val_loss: 0.1837 - val_accuracy: 0.9282\n",
            "Epoch 10/10\n",
            "858/860 [============================>.] - ETA: 0s - loss: 0.1915 - accuracy: 0.9307\n",
            "Epoch 10: val_loss improved from 0.18369 to 0.17966, saving model to model_with_new_architecture_3.hdf5\n",
            "860/860 [==============================] - 8s 9ms/step - loss: 0.1916 - accuracy: 0.9306 - val_loss: 0.1797 - val_accuracy: 0.9358\n",
            "\n",
            " Test accuracy: 0.9261000156402588  for : model_with_new_architecture_3 .hdf5\n"
          ]
        }
      ]
    },
    {
      "cell_type": "code",
      "source": [
        "from tabulate import tabulate\n",
        "\n",
        "headers = [\"Name\", \"Accuracy\"]\n",
        "\n",
        "print(tabulate([], headers=headers, tablefmt=\"heavy_outline\"))\n",
        "\n",
        "for key, value in accuracy.items():\n",
        "        print(tabulate([[key, str(value)]], tablefmt=\"heavy_outline\"))"
      ],
      "metadata": {
        "colab": {
          "base_uri": "https://localhost:8080/"
        },
        "id": "Tseyic1duSh6",
        "outputId": "bff95d76-202b-4ecd-d93e-4863042befd1"
      },
      "execution_count": null,
      "outputs": [
        {
          "output_type": "stream",
          "name": "stdout",
          "text": [
            "Name    Accuracy\n",
            "------  ----------\n",
            "----------  ------\n",
            "Base Model  0.9089\n",
            "----------  ------\n",
            "------------------------------  -----\n",
            "base_model_reduced_filters_3_6  0.874\n",
            "------------------------------  -----\n",
            "-----------------------------------  ------\n",
            "base_model_increased_filter_128_256  0.9211\n",
            "-----------------------------------  ------\n",
            "-----------------------------  ------\n",
            "base_model_decreased_kernel_1  0.8356\n",
            "-----------------------------  ------\n",
            "------------------------------  ------\n",
            "base_model_increased_pooling_4  0.8012\n",
            "------------------------------  ------\n",
            "----------------------------------  ------\n",
            "base_model_increased_dropout_50_50  0.7461\n",
            "----------------------------------  ------\n",
            "---------------------------------  -----\n",
            "base_model_decresed_dropout_10_20  0.913\n",
            "---------------------------------  -----\n",
            "-------------------------  ------\n",
            "base_model_add_conv_layer  0.9198\n",
            "-------------------------  ------\n",
            "-----------------------------------  ------\n",
            "model_with_new_architecture_vgg_net  0.9182\n",
            "-----------------------------------  ------\n",
            "-----------------------------  ------\n",
            "model_with_new_architecture_2  0.9149\n",
            "-----------------------------  ------\n",
            "-----------------------------  ------\n",
            "model_with_new_architecture_3  0.9261\n",
            "-----------------------------  ------\n"
          ]
        }
      ]
    },
    {
      "cell_type": "markdown",
      "source": [
        "Description of how the changes to architecture influence the change in accuracy, if there is any significant change. Specifically, describe:\n",
        "\n",
        "\n",
        "\n",
        "1.   impact of number of filters\n",
        "\n",
        "    Large number of filters improve the accuracy and increase the time\n",
        "    Small number of filters have decreased accuracy as it can be seen in first two models\n",
        "\n",
        "2. impact of kernel size\n",
        "\n",
        "    Small kernel size can decrease the acuracy by overfitting as every small feature is treated by 1X1 in the example(base_model_decreased_kernel)\n",
        "\n",
        "    Increasing the size of maxpool also decreases the accuracy as most of the features might be missed with a larger size of pooling kernel. The size of the image will become smaller and smaller\n",
        "\n",
        "3. impact of dropout probability\n",
        "\n",
        "    Increased dropout will decrease the accuracy due to underfitting. A smaller dropout may cause overfitting. In this network 20 to 40% is ideal dropout rate\n",
        "\n",
        "\n",
        "4. impact of number of layers\n",
        "    Adding an extra conv layer has slightly increased the accuracy. Increase in number of layers causes increase in traning time. may cause overfitting if there are too many layers\n",
        "\n",
        "5. impact of combining multiple changes.\n",
        "\n",
        "    using the VGG net architecture the accuracy improved.\n",
        "    Adding multiple layers and combination slightly increased the accuracy\n",
        "    I"
      ],
      "metadata": {
        "id": "NeQvluYVJCyn"
      }
    }
  ]
}